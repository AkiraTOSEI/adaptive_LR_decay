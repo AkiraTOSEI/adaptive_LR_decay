{
 "cells": [
  {
   "cell_type": "code",
   "execution_count": 1,
   "metadata": {},
   "outputs": [],
   "source": [
    "import glob\n",
    "import os\n",
    "\n",
    "from tqdm import tqdm_notebook as tqdm\n",
    "\n",
    "import numpy as np\n",
    "import pandas as pd\n",
    "import tensorflow_addons as tfa\n",
    "import tensorflow as tf\n",
    "from tensorflow.keras.utils import to_categorical\n",
    "from tensorflow.keras.losses import categorical_crossentropy\n",
    "from tensorflow.keras.datasets import cifar10, cifar100\n",
    "from tensorflow.keras.applications.vgg16 import VGG16\n",
    "from tensorflow.keras.applications.vgg19 import VGG19"
   ]
  },
  {
   "cell_type": "code",
   "execution_count": 2,
   "metadata": {},
   "outputs": [],
   "source": [
    "%matplotlib inline\n",
    "import matplotlib.pyplot as plt"
   ]
  },
  {
   "cell_type": "code",
   "execution_count": 3,
   "metadata": {},
   "outputs": [],
   "source": [
    "# CIFAR 10 Information\n",
    "class_num = 10\n",
    "img_size = 32\n",
    "ch_num = 3\n",
    "\n",
    "# The data, shuffled and split between train and test sets:\n",
    "(X_train, y_train), (X_test, y_test) = cifar10.load_data()\n",
    "# Convert class vectors to binary class matrices.\n",
    "Y_train = to_categorical(y_train, class_num)\n",
    "Y_test = to_categorical(y_test, class_num)\n",
    "\n",
    "X_train = X_train.astype('float32')\n",
    "X_test = X_test.astype('float32')\n",
    "\n",
    "# subtract mean and normalize\n",
    "mean_image = np.mean(X_train)\n",
    "X_train -= mean_image\n",
    "X_test -= mean_image\n",
    "X_train /= 128.\n",
    "X_test /= 128."
   ]
  },
  {
   "cell_type": "code",
   "execution_count": 4,
   "metadata": {},
   "outputs": [],
   "source": [
    " # random crop shift range\n",
    "shift_range = 0.3\n",
    "expand_target_size = int(img_size*(shift_range+1))\n",
    "def image_shift(image):\n",
    "    # padding\n",
    "    image = tf.image.resize_with_crop_or_pad(\n",
    "                    image,\n",
    "                    expand_target_size,\n",
    "                    expand_target_size\n",
    "                    )\n",
    "    #random crop\n",
    "    image = tf.image.random_crop(\n",
    "                    image,\n",
    "                    size=[img_size, img_size, ch_num]\n",
    "                    )\n",
    "    return image\n",
    "\n",
    "def flip_image(image):\n",
    "    return tf.image.random_flip_left_right(image)"
   ]
  },
  {
   "cell_type": "code",
   "execution_count": 5,
   "metadata": {},
   "outputs": [],
   "source": [
    "def data_balance(labels,data_num):\n",
    "    \"\"\"data choice function for label balanced data\n",
    "    \"\"\"\n",
    "    labels_dic = {}\n",
    "    ids = np.arange(labels.shape[0])\n",
    "    for label in range(len(np.unique(labels))):\n",
    "        label_choice = ids[labels==label]\n",
    "        shfl = np.random.choice(label_choice.shape[0], data_num, replace=False)\n",
    "        labels_dic[label] = label_choice[shfl]\n",
    "    data_choice = np.concatenate([labels_dic[label] for label in labels_dic.keys()],axis=0)\n",
    "    shfl = np.random.choice(data_choice.shape[0],data_choice.shape[0],replace=False)\n",
    "    data_choice = data_choice[shfl]\n",
    "\n",
    "    # check\n",
    "    shfl_labels = labels[data_choice]\n",
    "    assert len(np.unique(shfl_labels)) == len(np.unique(labels))\n",
    "    assert (np.unique(shfl_labels,return_counts=True)[1] == data_num).all()\n",
    "\n",
    "    return data_choice"
   ]
  },
  {
   "cell_type": "code",
   "execution_count": null,
   "metadata": {},
   "outputs": [],
   "source": []
  },
  {
   "cell_type": "code",
   "execution_count": 6,
   "metadata": {},
   "outputs": [
    {
     "data": {
      "text/plain": [
       "array([1000., 1000., 1000., 1000., 1000., 1000., 1000., 1000., 1000.,\n",
       "       1000.], dtype=float32)"
      ]
     },
     "execution_count": 6,
     "metadata": {},
     "output_type": "execute_result"
    }
   ],
   "source": [
    "choice = data_balance(y_train.reshape(-1),data_num=Y_test.shape[0]//class_num)\n",
    "X_train_eval = X_train[choice]\n",
    "Y_train_eval = Y_train[choice]\n",
    "np.sum(Y_train_eval,axis=0)"
   ]
  },
  {
   "cell_type": "code",
   "execution_count": null,
   "metadata": {
    "scrolled": true
   },
   "outputs": [],
   "source": []
  },
  {
   "cell_type": "markdown",
   "metadata": {},
   "source": [
    "# Adaptive LR decay"
   ]
  },
  {
   "cell_type": "code",
   "execution_count": 7,
   "metadata": {},
   "outputs": [],
   "source": [
    "class training_model():\n",
    "    def __init__(self,X_train,Y_train, X_train_eval, Y_train_eval, X_test,Y_test, batch_size=32):\n",
    "\n",
    "        self.model = tf.keras.applications.VGG16(input_shape=(32,32,3),weights=None,classes=class_num) \n",
    "        self.model.compile(loss='categorical_crossentropy',\n",
    "              optimizer='adam',\n",
    "              metrics=['accuracy'])\n",
    "        self.model.summary()\n",
    "        #self.model_vals = self.model.trainable_variables\n",
    "        self.batch_size = batch_size\n",
    "        self.create_dataset(X_train,Y_train, X_train_eval, Y_train_eval, X_test,Y_test)\n",
    "\n",
    "\n",
    "    def create_dataset(self, X_train,Y_train, X_train_eval, Y_train_eval, X_test,Y_test):\n",
    "        # create train dataset \n",
    "        input_ds = tf.data.Dataset.from_tensor_slices(X_train)\n",
    "        input_ds = input_ds.map(flip_image,num_parallel_calls=tf.data.experimental.AUTOTUNE).map(image_shift,num_parallel_calls=tf.data.experimental.AUTOTUNE)\n",
    "        target_ds = tf.data.Dataset.from_tensor_slices(Y_train)\n",
    "        train_ds = tf.data.Dataset.zip((input_ds, target_ds)).batch(self.batch_size).repeat()\n",
    "        self.train_iter = iter(train_ds)\n",
    "        self.train_batch_num = int(np.ceil(X_train.shape[0]/self.batch_size))\n",
    "\n",
    "        # crate train dataset for eval\n",
    "        input_ds = tf.data.Dataset.from_tensor_slices(X_train_eval)\n",
    "        target_ds = tf.data.Dataset.from_tensor_slices(Y_train_eval)\n",
    "        self.train_e_ds = tf.data.Dataset.zip((input_ds, target_ds)).batch(self.batch_size).repeat()\n",
    "        self.train_e_batch_num = int(np.ceil(X_train_eval.shape[0]/self.batch_size))\n",
    "\n",
    "        # create test\n",
    "        input_ds = tf.data.Dataset.from_tensor_slices(X_test)\n",
    "        target_ds = tf.data.Dataset.from_tensor_slices(Y_test)\n",
    "        self.test_ds = tf.data.Dataset.zip((input_ds, target_ds)).batch(self.batch_size).repeat()    \n",
    "        self.test_batch_num =  int(np.ceil(X_test.shape[0]/self.batch_size))\n",
    "    \n",
    "    \n",
    "    def create_train_step(self,lr):\n",
    "        #self.optimizer =  tfa.optimizers.RectifiedAdam(lr)\n",
    "        self.optimizer =  tf.keras.optimizers.SGD(lr)\n",
    "        self.model_vals = self.model.trainable_variables\n",
    "        \n",
    "        @tf.function\n",
    "        def train_step(b_input, b_target):\n",
    "            with tf.GradientTape() as tape:\n",
    "                preds= self.model(b_input)\n",
    "                loss = categorical_crossentropy(b_target,preds)\n",
    "            grads = tape.gradient(loss, self.model_vals)\n",
    "            self.optimizer.apply_gradients(zip(grads, self.model_vals))\n",
    "        return train_step\n",
    "        \n",
    "        \n",
    "    def minibatch_training(self):\n",
    "            b_input, b_target = next(self.train_iter)\n",
    "            self.train_step(b_input,b_target)\n",
    "                \n",
    "                       \n",
    "    def train(self,\n",
    "                    epochs=200, \n",
    "                    max_patience=10, \n",
    "                    decay_patience = 6, # patience　of lr decay\n",
    "                    num_decay = 3, \n",
    "                    decay_ratio = 4, \n",
    "                    default_lr = 0.001, # default Learning rate\n",
    "                    ):\n",
    "        \n",
    "        acc_history = [] # valid loss history\n",
    "        patience=0 # early stop patience\n",
    "        if num_decay>0:\n",
    "            _max_patience = decay_patience\n",
    "        else:\n",
    "            _max_patience = max_patience\n",
    "        \n",
    "        #First Evaluation\n",
    "        print(\"First_evaluation\")\n",
    "        [train_loss, train_acc] = self.model.evaluate(self.train_e_ds,steps=self.train_e_batch_num, verbose=1)\n",
    "        [valid_loss, valid_acc] = self.model.evaluate(self.test_ds,steps=self.test_batch_num, verbose=1)\n",
    "        best_train_losses = [train_loss, train_acc]\n",
    "        best_valid_losses = [valid_loss, valid_acc]\n",
    "        acc_history.append(valid_acc)\n",
    "        max_acc = valid_acc\n",
    "        print(\"epoch:\",0,\"-----\",end=\"\")\n",
    "        print(\"train loss :\",round(train_loss, 4), \",train acc: \",round(train_acc, 4),end=\"\")\n",
    "        print(\",  valid loss :\",round(valid_loss, 4), \",vaild acc: \",round(valid_acc, 4))\n",
    "        print(\"batch num \",self.train_batch_num)\n",
    "        # start training\n",
    "        lr = default_lr\n",
    "        self.train_step = self.create_train_step(lr)\n",
    "        for epoch in range(epochs):\n",
    "           \n",
    "            for batch in tqdm(range(self.train_batch_num)):\n",
    "                self.minibatch_training() # minibatch training\n",
    "                \n",
    "            # evaluation at epoch end\n",
    "            [train_loss, train_acc]  = self.model.evaluate(self.train_e_ds,steps=self.train_e_batch_num, verbose=0)\n",
    "            [valid_loss, valid_acc] = self.model.evaluate(self.test_ds,steps=self.test_batch_num, verbose=0)\n",
    "            acc_history.append(valid_acc)\n",
    "            print(\"epoch:\",epoch+1,\"-----\",end=\"\")\n",
    "            print(\"train loss :\",round(train_loss, 4), \",train acc: \",round(train_acc, 4),end=\"\")\n",
    "            print(\",  valid loss :\",round(valid_loss, 4), \",vaild acc: \",round(valid_acc, 4),end=\"\")\n",
    "            \n",
    "            if max_acc < valid_acc:\n",
    "                self.model.save(os.path.join(\"./model.h5\", ))\n",
    "                best_train_losses = [train_loss, train_acc]\n",
    "                best_valid_losses = [valid_loss, valid_acc]\n",
    "                max_acc = valid_acc\n",
    "                patience=0\n",
    "                print(\"     accuracy improved!\")\n",
    "            else:\n",
    "                patience+=1\n",
    "                print(\"\")\n",
    "                \n",
    "            # early stopping\n",
    "            if patience>_max_patience:\n",
    "                num_decay -= 1\n",
    "                if num_decay<=0:\n",
    "                    break\n",
    "                else:\n",
    "                    self.model = tf.keras.models.load_model(\"./model.h5\")\n",
    "                    print(\"--------------------------------------\")\n",
    "                    print (\"Learning Rate Decay : \",lr,\"->\",end=\"\")\n",
    "                    lr = lr/decay_ratio\n",
    "                    print(lr)\n",
    "                    print(\"--------------------------------------\")\n",
    "                    del self.train_step\n",
    "                    self.train_step = self.create_train_step(lr)\n",
    "                    patience=0\n",
    "                    if num_decay==1:\n",
    "                        _max_patience=max_patience\n",
    "                \n",
    "        print(\"-------------------------------\")\n",
    "        print(\"Training Results at best validation loss\")\n",
    "        print(\"train loss :\",round(best_train_losses[0], 4), \",train acc: \",round(best_train_losses[1], 4),end=\"\")\n",
    "        print(\",  valid loss :\",round(best_valid_losses[0], 4), \",vaild acc: \",round(best_valid_losses[1], 4))\n",
    "        \n",
    "        return acc_history, [best_train_losses,best_valid_losses]"
   ]
  },
  {
   "cell_type": "code",
   "execution_count": 8,
   "metadata": {
    "scrolled": true
   },
   "outputs": [
    {
     "name": "stdout",
     "output_type": "stream",
     "text": [
      "Model: \"vgg16\"\n",
      "_________________________________________________________________\n",
      "Layer (type)                 Output Shape              Param #   \n",
      "=================================================================\n",
      "input_1 (InputLayer)         [(None, 32, 32, 3)]       0         \n",
      "_________________________________________________________________\n",
      "block1_conv1 (Conv2D)        (None, 32, 32, 64)        1792      \n",
      "_________________________________________________________________\n",
      "block1_conv2 (Conv2D)        (None, 32, 32, 64)        36928     \n",
      "_________________________________________________________________\n",
      "block1_pool (MaxPooling2D)   (None, 16, 16, 64)        0         \n",
      "_________________________________________________________________\n",
      "block2_conv1 (Conv2D)        (None, 16, 16, 128)       73856     \n",
      "_________________________________________________________________\n",
      "block2_conv2 (Conv2D)        (None, 16, 16, 128)       147584    \n",
      "_________________________________________________________________\n",
      "block2_pool (MaxPooling2D)   (None, 8, 8, 128)         0         \n",
      "_________________________________________________________________\n",
      "block3_conv1 (Conv2D)        (None, 8, 8, 256)         295168    \n",
      "_________________________________________________________________\n",
      "block3_conv2 (Conv2D)        (None, 8, 8, 256)         590080    \n",
      "_________________________________________________________________\n",
      "block3_conv3 (Conv2D)        (None, 8, 8, 256)         590080    \n",
      "_________________________________________________________________\n",
      "block3_pool (MaxPooling2D)   (None, 4, 4, 256)         0         \n",
      "_________________________________________________________________\n",
      "block4_conv1 (Conv2D)        (None, 4, 4, 512)         1180160   \n",
      "_________________________________________________________________\n",
      "block4_conv2 (Conv2D)        (None, 4, 4, 512)         2359808   \n",
      "_________________________________________________________________\n",
      "block4_conv3 (Conv2D)        (None, 4, 4, 512)         2359808   \n",
      "_________________________________________________________________\n",
      "block4_pool (MaxPooling2D)   (None, 2, 2, 512)         0         \n",
      "_________________________________________________________________\n",
      "block5_conv1 (Conv2D)        (None, 2, 2, 512)         2359808   \n",
      "_________________________________________________________________\n",
      "block5_conv2 (Conv2D)        (None, 2, 2, 512)         2359808   \n",
      "_________________________________________________________________\n",
      "block5_conv3 (Conv2D)        (None, 2, 2, 512)         2359808   \n",
      "_________________________________________________________________\n",
      "block5_pool (MaxPooling2D)   (None, 1, 1, 512)         0         \n",
      "_________________________________________________________________\n",
      "flatten (Flatten)            (None, 512)               0         \n",
      "_________________________________________________________________\n",
      "fc1 (Dense)                  (None, 4096)              2101248   \n",
      "_________________________________________________________________\n",
      "fc2 (Dense)                  (None, 4096)              16781312  \n",
      "_________________________________________________________________\n",
      "predictions (Dense)          (None, 10)                40970     \n",
      "=================================================================\n",
      "Total params: 33,638,218\n",
      "Trainable params: 33,638,218\n",
      "Non-trainable params: 0\n",
      "_________________________________________________________________\n",
      "First_evaluation\n",
      "625/625 [==============================] - 4s 6ms/step - loss: 2.3026 - accuracy: 0.1097\n",
      "625/625 [==============================] - 4s 6ms/step - loss: 2.3026 - accuracy: 0.1029\n",
      "epoch: 0 -----train loss : 2.3026 ,train acc:  0.1097,  valid loss : 2.3026 ,vaild acc:  0.1029\n",
      "batch num  3125\n"
     ]
    },
    {
     "name": "stderr",
     "output_type": "stream",
     "text": [
      "/usr/local/lib/python3.6/dist-packages/ipykernel_launcher.py:89: TqdmDeprecationWarning: This function will be removed in tqdm==5.0.0\n",
      "Please use `tqdm.notebook.tqdm` instead of `tqdm.tqdm_notebook`\n"
     ]
    },
    {
     "data": {
      "application/vnd.jupyter.widget-view+json": {
       "model_id": "d82e462e00ed4af19c14dc8f8cb158cf",
       "version_major": 2,
       "version_minor": 0
      },
      "text/plain": [
       "HBox(children=(FloatProgress(value=0.0, max=3125.0), HTML(value='')))"
      ]
     },
     "metadata": {},
     "output_type": "display_data"
    },
    {
     "name": "stdout",
     "output_type": "stream",
     "text": [
      "\n",
      "epoch: 1 -----train loss : 2.2377 ,train acc:  0.1603,  valid loss : 2.2359 ,vaild acc:  0.1626     accuracy improved!\n"
     ]
    },
    {
     "data": {
      "application/vnd.jupyter.widget-view+json": {
       "model_id": "106f576253954d59811494849bf4869e",
       "version_major": 2,
       "version_minor": 0
      },
      "text/plain": [
       "HBox(children=(FloatProgress(value=0.0, max=3125.0), HTML(value='')))"
      ]
     },
     "metadata": {},
     "output_type": "display_data"
    },
    {
     "name": "stdout",
     "output_type": "stream",
     "text": [
      "\n",
      "epoch: 2 -----train loss : 1.8442 ,train acc:  0.2654,  valid loss : 1.842 ,vaild acc:  0.2671     accuracy improved!\n"
     ]
    },
    {
     "data": {
      "application/vnd.jupyter.widget-view+json": {
       "model_id": "d181ef916ac246758746d73e26f163d0",
       "version_major": 2,
       "version_minor": 0
      },
      "text/plain": [
       "HBox(children=(FloatProgress(value=0.0, max=3125.0), HTML(value='')))"
      ]
     },
     "metadata": {},
     "output_type": "display_data"
    },
    {
     "name": "stdout",
     "output_type": "stream",
     "text": [
      "\n",
      "epoch: 3 -----train loss : 1.8337 ,train acc:  0.3066,  valid loss : 1.8192 ,vaild acc:  0.3061     accuracy improved!\n"
     ]
    },
    {
     "data": {
      "application/vnd.jupyter.widget-view+json": {
       "model_id": "3da57e96a8bd493197e31b2cb8658db7",
       "version_major": 2,
       "version_minor": 0
      },
      "text/plain": [
       "HBox(children=(FloatProgress(value=0.0, max=3125.0), HTML(value='')))"
      ]
     },
     "metadata": {},
     "output_type": "display_data"
    },
    {
     "name": "stdout",
     "output_type": "stream",
     "text": [
      "\n",
      "epoch: 4 -----train loss : 1.3859 ,train acc:  0.4742,  valid loss : 1.3902 ,vaild acc:  0.4715     accuracy improved!\n"
     ]
    },
    {
     "data": {
      "application/vnd.jupyter.widget-view+json": {
       "model_id": "62408b1504944be5ab09b615d861e5f0",
       "version_major": 2,
       "version_minor": 0
      },
      "text/plain": [
       "HBox(children=(FloatProgress(value=0.0, max=3125.0), HTML(value='')))"
      ]
     },
     "metadata": {},
     "output_type": "display_data"
    },
    {
     "name": "stdout",
     "output_type": "stream",
     "text": [
      "\n",
      "epoch: 5 -----train loss : 1.3674 ,train acc:  0.5074,  valid loss : 1.3776 ,vaild acc:  0.5063     accuracy improved!\n"
     ]
    },
    {
     "data": {
      "application/vnd.jupyter.widget-view+json": {
       "model_id": "7fc7ca9739cf4bbb944afa8a5556ca27",
       "version_major": 2,
       "version_minor": 0
      },
      "text/plain": [
       "HBox(children=(FloatProgress(value=0.0, max=3125.0), HTML(value='')))"
      ]
     },
     "metadata": {},
     "output_type": "display_data"
    },
    {
     "name": "stdout",
     "output_type": "stream",
     "text": [
      "\n",
      "epoch: 6 -----train loss : 1.0539 ,train acc:  0.6178,  valid loss : 1.0843 ,vaild acc:  0.6092     accuracy improved!\n"
     ]
    },
    {
     "data": {
      "application/vnd.jupyter.widget-view+json": {
       "model_id": "008ae607e3da447b8d97aa6fd8e2b30f",
       "version_major": 2,
       "version_minor": 0
      },
      "text/plain": [
       "HBox(children=(FloatProgress(value=0.0, max=3125.0), HTML(value='')))"
      ]
     },
     "metadata": {},
     "output_type": "display_data"
    },
    {
     "name": "stdout",
     "output_type": "stream",
     "text": [
      "\n",
      "epoch: 7 -----train loss : 0.9188 ,train acc:  0.6729,  valid loss : 0.9556 ,vaild acc:  0.6637     accuracy improved!\n"
     ]
    },
    {
     "data": {
      "application/vnd.jupyter.widget-view+json": {
       "model_id": "5f97516a645b4a6097762abbb2c77954",
       "version_major": 2,
       "version_minor": 0
      },
      "text/plain": [
       "HBox(children=(FloatProgress(value=0.0, max=3125.0), HTML(value='')))"
      ]
     },
     "metadata": {},
     "output_type": "display_data"
    },
    {
     "name": "stdout",
     "output_type": "stream",
     "text": [
      "\n",
      "epoch: 8 -----train loss : 0.8294 ,train acc:  0.7114,  valid loss : 0.8704 ,vaild acc:  0.6973     accuracy improved!\n"
     ]
    },
    {
     "data": {
      "application/vnd.jupyter.widget-view+json": {
       "model_id": "4da24b7694b94948b014cdf14cc72d62",
       "version_major": 2,
       "version_minor": 0
      },
      "text/plain": [
       "HBox(children=(FloatProgress(value=0.0, max=3125.0), HTML(value='')))"
      ]
     },
     "metadata": {},
     "output_type": "display_data"
    },
    {
     "name": "stdout",
     "output_type": "stream",
     "text": [
      "\n",
      "epoch: 9 -----train loss : 0.7489 ,train acc:  0.7431,  valid loss : 0.7904 ,vaild acc:  0.7333     accuracy improved!\n"
     ]
    },
    {
     "data": {
      "application/vnd.jupyter.widget-view+json": {
       "model_id": "f8767df466a44befb3a60f0b13417b4c",
       "version_major": 2,
       "version_minor": 0
      },
      "text/plain": [
       "HBox(children=(FloatProgress(value=0.0, max=3125.0), HTML(value='')))"
      ]
     },
     "metadata": {},
     "output_type": "display_data"
    },
    {
     "name": "stdout",
     "output_type": "stream",
     "text": [
      "\n",
      "epoch: 10 -----train loss : 0.6523 ,train acc:  0.774,  valid loss : 0.7219 ,vaild acc:  0.7571     accuracy improved!\n"
     ]
    },
    {
     "data": {
      "application/vnd.jupyter.widget-view+json": {
       "model_id": "cb442a6978ee400a82baef4904b43fb8",
       "version_major": 2,
       "version_minor": 0
      },
      "text/plain": [
       "HBox(children=(FloatProgress(value=0.0, max=3125.0), HTML(value='')))"
      ]
     },
     "metadata": {},
     "output_type": "display_data"
    },
    {
     "name": "stdout",
     "output_type": "stream",
     "text": [
      "\n",
      "epoch: 11 -----train loss : 0.607 ,train acc:  0.7952,  valid loss : 0.6724 ,vaild acc:  0.7725     accuracy improved!\n"
     ]
    },
    {
     "data": {
      "application/vnd.jupyter.widget-view+json": {
       "model_id": "68b36edf0c80434dac43fe97c2c263ad",
       "version_major": 2,
       "version_minor": 0
      },
      "text/plain": [
       "HBox(children=(FloatProgress(value=0.0, max=3125.0), HTML(value='')))"
      ]
     },
     "metadata": {},
     "output_type": "display_data"
    },
    {
     "name": "stdout",
     "output_type": "stream",
     "text": [
      "\n",
      "epoch: 12 -----train loss : 0.5349 ,train acc:  0.8153,  valid loss : 0.6113 ,vaild acc:  0.795     accuracy improved!\n"
     ]
    },
    {
     "data": {
      "application/vnd.jupyter.widget-view+json": {
       "model_id": "a09de9a520ac4f8087ccd81b5a23ce1f",
       "version_major": 2,
       "version_minor": 0
      },
      "text/plain": [
       "HBox(children=(FloatProgress(value=0.0, max=3125.0), HTML(value='')))"
      ]
     },
     "metadata": {},
     "output_type": "display_data"
    },
    {
     "name": "stdout",
     "output_type": "stream",
     "text": [
      "\n",
      "epoch: 13 -----train loss : 0.4659 ,train acc:  0.8411,  valid loss : 0.5531 ,vaild acc:  0.8131     accuracy improved!\n"
     ]
    },
    {
     "data": {
      "application/vnd.jupyter.widget-view+json": {
       "model_id": "24e84f4ffb2048da9f10435ca6a1758d",
       "version_major": 2,
       "version_minor": 0
      },
      "text/plain": [
       "HBox(children=(FloatProgress(value=0.0, max=3125.0), HTML(value='')))"
      ]
     },
     "metadata": {},
     "output_type": "display_data"
    },
    {
     "name": "stdout",
     "output_type": "stream",
     "text": [
      "\n",
      "epoch: 14 -----train loss : 0.4676 ,train acc:  0.8462,  valid loss : 0.5669 ,vaild acc:  0.8123\n"
     ]
    },
    {
     "data": {
      "application/vnd.jupyter.widget-view+json": {
       "model_id": "c65fd2af97eb4b10993a54d4f1d872f9",
       "version_major": 2,
       "version_minor": 0
      },
      "text/plain": [
       "HBox(children=(FloatProgress(value=0.0, max=3125.0), HTML(value='')))"
      ]
     },
     "metadata": {},
     "output_type": "display_data"
    },
    {
     "name": "stdout",
     "output_type": "stream",
     "text": [
      "\n",
      "epoch: 15 -----train loss : 0.4423 ,train acc:  0.8489,  valid loss : 0.5664 ,vaild acc:  0.8168     accuracy improved!\n"
     ]
    },
    {
     "data": {
      "application/vnd.jupyter.widget-view+json": {
       "model_id": "118ab9909113490680446e97ab08be49",
       "version_major": 2,
       "version_minor": 0
      },
      "text/plain": [
       "HBox(children=(FloatProgress(value=0.0, max=3125.0), HTML(value='')))"
      ]
     },
     "metadata": {},
     "output_type": "display_data"
    },
    {
     "name": "stdout",
     "output_type": "stream",
     "text": [
      "\n",
      "epoch: 16 -----train loss : 0.3808 ,train acc:  0.8745,  valid loss : 0.5186 ,vaild acc:  0.8288     accuracy improved!\n"
     ]
    },
    {
     "data": {
      "application/vnd.jupyter.widget-view+json": {
       "model_id": "655c6731c76c4bb7896ac2aad6c3e8e4",
       "version_major": 2,
       "version_minor": 0
      },
      "text/plain": [
       "HBox(children=(FloatProgress(value=0.0, max=3125.0), HTML(value='')))"
      ]
     },
     "metadata": {},
     "output_type": "display_data"
    },
    {
     "name": "stdout",
     "output_type": "stream",
     "text": [
      "\n",
      "epoch: 17 -----train loss : 0.3423 ,train acc:  0.8826,  valid loss : 0.4797 ,vaild acc:  0.8412     accuracy improved!\n"
     ]
    },
    {
     "data": {
      "application/vnd.jupyter.widget-view+json": {
       "model_id": "2c3d543c2f694343a6b0b1bae3ed8b6f",
       "version_major": 2,
       "version_minor": 0
      },
      "text/plain": [
       "HBox(children=(FloatProgress(value=0.0, max=3125.0), HTML(value='')))"
      ]
     },
     "metadata": {},
     "output_type": "display_data"
    },
    {
     "name": "stdout",
     "output_type": "stream",
     "text": [
      "\n",
      "epoch: 18 -----train loss : 0.3228 ,train acc:  0.8918,  valid loss : 0.4746 ,vaild acc:  0.8447     accuracy improved!\n"
     ]
    },
    {
     "data": {
      "application/vnd.jupyter.widget-view+json": {
       "model_id": "b7584ab1b8824a52bcfd401119c28fd1",
       "version_major": 2,
       "version_minor": 0
      },
      "text/plain": [
       "HBox(children=(FloatProgress(value=0.0, max=3125.0), HTML(value='')))"
      ]
     },
     "metadata": {},
     "output_type": "display_data"
    },
    {
     "name": "stdout",
     "output_type": "stream",
     "text": [
      "\n",
      "epoch: 19 -----train loss : 0.321 ,train acc:  0.8911,  valid loss : 0.4931 ,vaild acc:  0.8401\n"
     ]
    },
    {
     "data": {
      "application/vnd.jupyter.widget-view+json": {
       "model_id": "f8398be190b54a87a448268239140aa5",
       "version_major": 2,
       "version_minor": 0
      },
      "text/plain": [
       "HBox(children=(FloatProgress(value=0.0, max=3125.0), HTML(value='')))"
      ]
     },
     "metadata": {},
     "output_type": "display_data"
    },
    {
     "name": "stdout",
     "output_type": "stream",
     "text": [
      "\n",
      "epoch: 20 -----train loss : 0.2978 ,train acc:  0.8986,  valid loss : 0.4831 ,vaild acc:  0.844\n"
     ]
    },
    {
     "data": {
      "application/vnd.jupyter.widget-view+json": {
       "model_id": "7f918222e88c4d0398b51faf4dcf5722",
       "version_major": 2,
       "version_minor": 0
      },
      "text/plain": [
       "HBox(children=(FloatProgress(value=0.0, max=3125.0), HTML(value='')))"
      ]
     },
     "metadata": {},
     "output_type": "display_data"
    },
    {
     "name": "stdout",
     "output_type": "stream",
     "text": [
      "\n",
      "epoch: 21 -----train loss : 0.2668 ,train acc:  0.9115,  valid loss : 0.4586 ,vaild acc:  0.8548     accuracy improved!\n"
     ]
    },
    {
     "data": {
      "application/vnd.jupyter.widget-view+json": {
       "model_id": "5f6f84a39be1432497ecb7d7386b9f04",
       "version_major": 2,
       "version_minor": 0
      },
      "text/plain": [
       "HBox(children=(FloatProgress(value=0.0, max=3125.0), HTML(value='')))"
      ]
     },
     "metadata": {},
     "output_type": "display_data"
    },
    {
     "name": "stdout",
     "output_type": "stream",
     "text": [
      "\n",
      "epoch: 22 -----train loss : 0.2549 ,train acc:  0.9142,  valid loss : 0.4649 ,vaild acc:  0.8534\n"
     ]
    },
    {
     "data": {
      "application/vnd.jupyter.widget-view+json": {
       "model_id": "49a9f87efdcc4f3eb1716600b79ead12",
       "version_major": 2,
       "version_minor": 0
      },
      "text/plain": [
       "HBox(children=(FloatProgress(value=0.0, max=3125.0), HTML(value='')))"
      ]
     },
     "metadata": {},
     "output_type": "display_data"
    },
    {
     "name": "stdout",
     "output_type": "stream",
     "text": [
      "\n",
      "epoch: 23 -----train loss : 0.2566 ,train acc:  0.915,  valid loss : 0.4745 ,vaild acc:  0.8543\n"
     ]
    },
    {
     "data": {
      "application/vnd.jupyter.widget-view+json": {
       "model_id": "4d5f4caa39fb43ab95e870a1795b8750",
       "version_major": 2,
       "version_minor": 0
      },
      "text/plain": [
       "HBox(children=(FloatProgress(value=0.0, max=3125.0), HTML(value='')))"
      ]
     },
     "metadata": {},
     "output_type": "display_data"
    },
    {
     "name": "stdout",
     "output_type": "stream",
     "text": [
      "\n",
      "epoch: 24 -----train loss : 0.2373 ,train acc:  0.9162,  valid loss : 0.4566 ,vaild acc:  0.858     accuracy improved!\n"
     ]
    },
    {
     "data": {
      "application/vnd.jupyter.widget-view+json": {
       "model_id": "941378179f654cf2a78a019377a41659",
       "version_major": 2,
       "version_minor": 0
      },
      "text/plain": [
       "HBox(children=(FloatProgress(value=0.0, max=3125.0), HTML(value='')))"
      ]
     },
     "metadata": {},
     "output_type": "display_data"
    },
    {
     "name": "stdout",
     "output_type": "stream",
     "text": [
      "\n",
      "epoch: 25 -----train loss : 0.2085 ,train acc:  0.9297,  valid loss : 0.4367 ,vaild acc:  0.8651     accuracy improved!\n"
     ]
    },
    {
     "data": {
      "application/vnd.jupyter.widget-view+json": {
       "model_id": "16bc558cc1d24aa2886e6e16fecf6fba",
       "version_major": 2,
       "version_minor": 0
      },
      "text/plain": [
       "HBox(children=(FloatProgress(value=0.0, max=3125.0), HTML(value='')))"
      ]
     },
     "metadata": {},
     "output_type": "display_data"
    },
    {
     "name": "stdout",
     "output_type": "stream",
     "text": [
      "\n",
      "epoch: 26 -----train loss : 0.2304 ,train acc:  0.9227,  valid loss : 0.4622 ,vaild acc:  0.8555\n"
     ]
    },
    {
     "data": {
      "application/vnd.jupyter.widget-view+json": {
       "model_id": "2eaf1516afde47bca1be406b97443a13",
       "version_major": 2,
       "version_minor": 0
      },
      "text/plain": [
       "HBox(children=(FloatProgress(value=0.0, max=3125.0), HTML(value='')))"
      ]
     },
     "metadata": {},
     "output_type": "display_data"
    },
    {
     "name": "stdout",
     "output_type": "stream",
     "text": [
      "\n",
      "epoch: 27 -----train loss : 0.2025 ,train acc:  0.9303,  valid loss : 0.447 ,vaild acc:  0.861\n"
     ]
    },
    {
     "data": {
      "application/vnd.jupyter.widget-view+json": {
       "model_id": "f91bba96886143cfa4445c742938d9e9",
       "version_major": 2,
       "version_minor": 0
      },
      "text/plain": [
       "HBox(children=(FloatProgress(value=0.0, max=3125.0), HTML(value='')))"
      ]
     },
     "metadata": {},
     "output_type": "display_data"
    },
    {
     "name": "stdout",
     "output_type": "stream",
     "text": [
      "\n",
      "epoch: 28 -----train loss : 0.1878 ,train acc:  0.9354,  valid loss : 0.4411 ,vaild acc:  0.8615\n"
     ]
    },
    {
     "data": {
      "application/vnd.jupyter.widget-view+json": {
       "model_id": "70f406d5dbef4674b80bd0a2999ee286",
       "version_major": 2,
       "version_minor": 0
      },
      "text/plain": [
       "HBox(children=(FloatProgress(value=0.0, max=3125.0), HTML(value='')))"
      ]
     },
     "metadata": {},
     "output_type": "display_data"
    },
    {
     "name": "stdout",
     "output_type": "stream",
     "text": [
      "\n",
      "epoch: 29 -----train loss : 0.2439 ,train acc:  0.921,  valid loss : 0.5524 ,vaild acc:  0.8456\n",
      "--------------------------------------\n",
      "Learning Rate Decay :  0.001 ->0.00025\n",
      "--------------------------------------\n"
     ]
    },
    {
     "data": {
      "application/vnd.jupyter.widget-view+json": {
       "model_id": "42d78c8171e6424495064765978fdb53",
       "version_major": 2,
       "version_minor": 0
      },
      "text/plain": [
       "HBox(children=(FloatProgress(value=0.0, max=3125.0), HTML(value='')))"
      ]
     },
     "metadata": {},
     "output_type": "display_data"
    },
    {
     "name": "stdout",
     "output_type": "stream",
     "text": [
      "\n",
      "epoch: 30 -----train loss : 0.1432 ,train acc:  0.9518,  valid loss : 0.411 ,vaild acc:  0.8772     accuracy improved!\n"
     ]
    },
    {
     "data": {
      "application/vnd.jupyter.widget-view+json": {
       "model_id": "822ef4b6d8e94639bb27a2f83a0f4090",
       "version_major": 2,
       "version_minor": 0
      },
      "text/plain": [
       "HBox(children=(FloatProgress(value=0.0, max=3125.0), HTML(value='')))"
      ]
     },
     "metadata": {},
     "output_type": "display_data"
    },
    {
     "name": "stdout",
     "output_type": "stream",
     "text": [
      "\n",
      "epoch: 31 -----train loss : 0.1305 ,train acc:  0.9562,  valid loss : 0.4168 ,vaild acc:  0.88     accuracy improved!\n"
     ]
    },
    {
     "data": {
      "application/vnd.jupyter.widget-view+json": {
       "model_id": "6da5520baba646c8b0279a45d001c976",
       "version_major": 2,
       "version_minor": 0
      },
      "text/plain": [
       "HBox(children=(FloatProgress(value=0.0, max=3125.0), HTML(value='')))"
      ]
     },
     "metadata": {},
     "output_type": "display_data"
    },
    {
     "name": "stdout",
     "output_type": "stream",
     "text": [
      "\n",
      "epoch: 32 -----train loss : 0.1148 ,train acc:  0.9598,  valid loss : 0.4245 ,vaild acc:  0.8809     accuracy improved!\n"
     ]
    },
    {
     "data": {
      "application/vnd.jupyter.widget-view+json": {
       "model_id": "dd34b3706da842b6a22fc651abd78f84",
       "version_major": 2,
       "version_minor": 0
      },
      "text/plain": [
       "HBox(children=(FloatProgress(value=0.0, max=3125.0), HTML(value='')))"
      ]
     },
     "metadata": {},
     "output_type": "display_data"
    },
    {
     "name": "stdout",
     "output_type": "stream",
     "text": [
      "\n",
      "epoch: 33 -----train loss : 0.0981 ,train acc:  0.9677,  valid loss : 0.4227 ,vaild acc:  0.8836     accuracy improved!\n"
     ]
    },
    {
     "data": {
      "application/vnd.jupyter.widget-view+json": {
       "model_id": "db0ad3b9b01f4a5eae82f79d1cf10e75",
       "version_major": 2,
       "version_minor": 0
      },
      "text/plain": [
       "HBox(children=(FloatProgress(value=0.0, max=3125.0), HTML(value='')))"
      ]
     },
     "metadata": {},
     "output_type": "display_data"
    },
    {
     "name": "stdout",
     "output_type": "stream",
     "text": [
      "\n",
      "epoch: 34 -----train loss : 0.0969 ,train acc:  0.9672,  valid loss : 0.424 ,vaild acc:  0.885     accuracy improved!\n"
     ]
    },
    {
     "data": {
      "application/vnd.jupyter.widget-view+json": {
       "model_id": "c6ef35f32a7e47bab11977e3c21a258f",
       "version_major": 2,
       "version_minor": 0
      },
      "text/plain": [
       "HBox(children=(FloatProgress(value=0.0, max=3125.0), HTML(value='')))"
      ]
     },
     "metadata": {},
     "output_type": "display_data"
    },
    {
     "name": "stdout",
     "output_type": "stream",
     "text": [
      "\n",
      "epoch: 35 -----train loss : 0.0912 ,train acc:  0.9711,  valid loss : 0.4277 ,vaild acc:  0.8862     accuracy improved!\n"
     ]
    },
    {
     "data": {
      "application/vnd.jupyter.widget-view+json": {
       "model_id": "5df14fd6b69c49c0b2cc300b10dd5d78",
       "version_major": 2,
       "version_minor": 0
      },
      "text/plain": [
       "HBox(children=(FloatProgress(value=0.0, max=3125.0), HTML(value='')))"
      ]
     },
     "metadata": {},
     "output_type": "display_data"
    },
    {
     "name": "stdout",
     "output_type": "stream",
     "text": [
      "\n",
      "epoch: 36 -----train loss : 0.0859 ,train acc:  0.9703,  valid loss : 0.4516 ,vaild acc:  0.8788\n"
     ]
    },
    {
     "data": {
      "application/vnd.jupyter.widget-view+json": {
       "model_id": "cdddf455d5e74db9a64999dbae18e542",
       "version_major": 2,
       "version_minor": 0
      },
      "text/plain": [
       "HBox(children=(FloatProgress(value=0.0, max=3125.0), HTML(value='')))"
      ]
     },
     "metadata": {},
     "output_type": "display_data"
    },
    {
     "name": "stdout",
     "output_type": "stream",
     "text": [
      "\n",
      "epoch: 37 -----train loss : 0.082 ,train acc:  0.9728,  valid loss : 0.4578 ,vaild acc:  0.8818\n"
     ]
    },
    {
     "data": {
      "application/vnd.jupyter.widget-view+json": {
       "model_id": "d03d6175b1c54bda94417ff0fdfdf2d2",
       "version_major": 2,
       "version_minor": 0
      },
      "text/plain": [
       "HBox(children=(FloatProgress(value=0.0, max=3125.0), HTML(value='')))"
      ]
     },
     "metadata": {},
     "output_type": "display_data"
    },
    {
     "name": "stdout",
     "output_type": "stream",
     "text": [
      "\n",
      "epoch: 38 -----train loss : 0.089 ,train acc:  0.9684,  valid loss : 0.4764 ,vaild acc:  0.8794\n"
     ]
    },
    {
     "data": {
      "application/vnd.jupyter.widget-view+json": {
       "model_id": "1afdd7b6f774400e8890c3c2a71aca89",
       "version_major": 2,
       "version_minor": 0
      },
      "text/plain": [
       "HBox(children=(FloatProgress(value=0.0, max=3125.0), HTML(value='')))"
      ]
     },
     "metadata": {},
     "output_type": "display_data"
    },
    {
     "name": "stdout",
     "output_type": "stream",
     "text": [
      "\n",
      "epoch: 39 -----train loss : 0.0759 ,train acc:  0.9746,  valid loss : 0.4617 ,vaild acc:  0.8808\n",
      "--------------------------------------\n",
      "Learning Rate Decay :  0.00025 ->6.25e-05\n",
      "--------------------------------------\n"
     ]
    },
    {
     "data": {
      "application/vnd.jupyter.widget-view+json": {
       "model_id": "cb28656698754db594215a250e924959",
       "version_major": 2,
       "version_minor": 0
      },
      "text/plain": [
       "HBox(children=(FloatProgress(value=0.0, max=3125.0), HTML(value='')))"
      ]
     },
     "metadata": {},
     "output_type": "display_data"
    },
    {
     "name": "stdout",
     "output_type": "stream",
     "text": [
      "\n",
      "epoch: 40 -----train loss : 0.0779 ,train acc:  0.9751,  valid loss : 0.4274 ,vaild acc:  0.8875     accuracy improved!\n"
     ]
    },
    {
     "data": {
      "application/vnd.jupyter.widget-view+json": {
       "model_id": "8b9f0dde474e45aaaa588535e9455466",
       "version_major": 2,
       "version_minor": 0
      },
      "text/plain": [
       "HBox(children=(FloatProgress(value=0.0, max=3125.0), HTML(value='')))"
      ]
     },
     "metadata": {},
     "output_type": "display_data"
    },
    {
     "name": "stdout",
     "output_type": "stream",
     "text": [
      "\n",
      "epoch: 41 -----train loss : 0.0734 ,train acc:  0.9757,  valid loss : 0.4363 ,vaild acc:  0.8885     accuracy improved!\n"
     ]
    },
    {
     "data": {
      "application/vnd.jupyter.widget-view+json": {
       "model_id": "4a7a03ee3d49457fadaa837d83e0bfb4",
       "version_major": 2,
       "version_minor": 0
      },
      "text/plain": [
       "HBox(children=(FloatProgress(value=0.0, max=3125.0), HTML(value='')))"
      ]
     },
     "metadata": {},
     "output_type": "display_data"
    },
    {
     "name": "stdout",
     "output_type": "stream",
     "text": [
      "\n",
      "epoch: 42 -----train loss : 0.0705 ,train acc:  0.9758,  valid loss : 0.4353 ,vaild acc:  0.8911     accuracy improved!\n"
     ]
    },
    {
     "data": {
      "application/vnd.jupyter.widget-view+json": {
       "model_id": "949db89ce3fa4ce6b8955fba31af716b",
       "version_major": 2,
       "version_minor": 0
      },
      "text/plain": [
       "HBox(children=(FloatProgress(value=0.0, max=3125.0), HTML(value='')))"
      ]
     },
     "metadata": {},
     "output_type": "display_data"
    },
    {
     "name": "stdout",
     "output_type": "stream",
     "text": [
      "\n",
      "epoch: 43 -----train loss : 0.0674 ,train acc:  0.9778,  valid loss : 0.4436 ,vaild acc:  0.8894\n"
     ]
    },
    {
     "data": {
      "application/vnd.jupyter.widget-view+json": {
       "model_id": "7a2c90ab868347658a4f83bdfd921537",
       "version_major": 2,
       "version_minor": 0
      },
      "text/plain": [
       "HBox(children=(FloatProgress(value=0.0, max=3125.0), HTML(value='')))"
      ]
     },
     "metadata": {},
     "output_type": "display_data"
    },
    {
     "name": "stdout",
     "output_type": "stream",
     "text": [
      "\n",
      "epoch: 44 -----train loss : 0.0655 ,train acc:  0.9769,  valid loss : 0.4411 ,vaild acc:  0.8881\n"
     ]
    },
    {
     "data": {
      "application/vnd.jupyter.widget-view+json": {
       "model_id": "e95011d8213f478bac36d2974e10b58b",
       "version_major": 2,
       "version_minor": 0
      },
      "text/plain": [
       "HBox(children=(FloatProgress(value=0.0, max=3125.0), HTML(value='')))"
      ]
     },
     "metadata": {},
     "output_type": "display_data"
    },
    {
     "name": "stdout",
     "output_type": "stream",
     "text": [
      "\n",
      "epoch: 45 -----train loss : 0.0647 ,train acc:  0.9782,  valid loss : 0.4462 ,vaild acc:  0.8894\n"
     ]
    },
    {
     "data": {
      "application/vnd.jupyter.widget-view+json": {
       "model_id": "219efb5a6d2946559c546c15a108084e",
       "version_major": 2,
       "version_minor": 0
      },
      "text/plain": [
       "HBox(children=(FloatProgress(value=0.0, max=3125.0), HTML(value='')))"
      ]
     },
     "metadata": {},
     "output_type": "display_data"
    },
    {
     "name": "stdout",
     "output_type": "stream",
     "text": [
      "\n",
      "epoch: 46 -----train loss : 0.0602 ,train acc:  0.9803,  valid loss : 0.4569 ,vaild acc:  0.8884\n"
     ]
    },
    {
     "data": {
      "application/vnd.jupyter.widget-view+json": {
       "model_id": "eb331b0f7f4143b39bcc5550639ec7bb",
       "version_major": 2,
       "version_minor": 0
      },
      "text/plain": [
       "HBox(children=(FloatProgress(value=0.0, max=3125.0), HTML(value='')))"
      ]
     },
     "metadata": {},
     "output_type": "display_data"
    },
    {
     "name": "stdout",
     "output_type": "stream",
     "text": [
      "\n",
      "epoch: 47 -----train loss : 0.06 ,train acc:  0.9796,  valid loss : 0.4654 ,vaild acc:  0.8902\n"
     ]
    },
    {
     "data": {
      "application/vnd.jupyter.widget-view+json": {
       "model_id": "476daecef89f4fb3bf8248488eb46a3b",
       "version_major": 2,
       "version_minor": 0
      },
      "text/plain": [
       "HBox(children=(FloatProgress(value=0.0, max=3125.0), HTML(value='')))"
      ]
     },
     "metadata": {},
     "output_type": "display_data"
    },
    {
     "name": "stdout",
     "output_type": "stream",
     "text": [
      "\n",
      "epoch: 48 -----train loss : 0.0566 ,train acc:  0.9803,  valid loss : 0.4681 ,vaild acc:  0.8889\n"
     ]
    },
    {
     "data": {
      "application/vnd.jupyter.widget-view+json": {
       "model_id": "3b1c04138c4043cbbb89cab2b4e55508",
       "version_major": 2,
       "version_minor": 0
      },
      "text/plain": [
       "HBox(children=(FloatProgress(value=0.0, max=3125.0), HTML(value='')))"
      ]
     },
     "metadata": {},
     "output_type": "display_data"
    },
    {
     "name": "stdout",
     "output_type": "stream",
     "text": [
      "\n",
      "epoch: 49 -----train loss : 0.0548 ,train acc:  0.9804,  valid loss : 0.4709 ,vaild acc:  0.8913     accuracy improved!\n"
     ]
    },
    {
     "data": {
      "application/vnd.jupyter.widget-view+json": {
       "model_id": "05d6e198daf44b7984741821a9d15609",
       "version_major": 2,
       "version_minor": 0
      },
      "text/plain": [
       "HBox(children=(FloatProgress(value=0.0, max=3125.0), HTML(value='')))"
      ]
     },
     "metadata": {},
     "output_type": "display_data"
    },
    {
     "name": "stdout",
     "output_type": "stream",
     "text": [
      "\n",
      "epoch: 50 -----train loss : 0.0529 ,train acc:  0.9809,  valid loss : 0.4728 ,vaild acc:  0.8884\n"
     ]
    },
    {
     "data": {
      "application/vnd.jupyter.widget-view+json": {
       "model_id": "002998598c4e4877bb023ec5083120d5",
       "version_major": 2,
       "version_minor": 0
      },
      "text/plain": [
       "HBox(children=(FloatProgress(value=0.0, max=3125.0), HTML(value='')))"
      ]
     },
     "metadata": {},
     "output_type": "display_data"
    },
    {
     "name": "stdout",
     "output_type": "stream",
     "text": [
      "\n",
      "epoch: 51 -----train loss : 0.0509 ,train acc:  0.982,  valid loss : 0.4737 ,vaild acc:  0.8915     accuracy improved!\n"
     ]
    },
    {
     "data": {
      "application/vnd.jupyter.widget-view+json": {
       "model_id": "0004f570c5804069bc71193afd678778",
       "version_major": 2,
       "version_minor": 0
      },
      "text/plain": [
       "HBox(children=(FloatProgress(value=0.0, max=3125.0), HTML(value='')))"
      ]
     },
     "metadata": {},
     "output_type": "display_data"
    },
    {
     "name": "stdout",
     "output_type": "stream",
     "text": [
      "\n",
      "epoch: 52 -----train loss : 0.0498 ,train acc:  0.9835,  valid loss : 0.4788 ,vaild acc:  0.8881\n"
     ]
    },
    {
     "data": {
      "application/vnd.jupyter.widget-view+json": {
       "model_id": "564a840e05214b55b3d010e57b59e26c",
       "version_major": 2,
       "version_minor": 0
      },
      "text/plain": [
       "HBox(children=(FloatProgress(value=0.0, max=3125.0), HTML(value='')))"
      ]
     },
     "metadata": {},
     "output_type": "display_data"
    },
    {
     "name": "stdout",
     "output_type": "stream",
     "text": [
      "\n",
      "epoch: 53 -----train loss : 0.0496 ,train acc:  0.9828,  valid loss : 0.4838 ,vaild acc:  0.8889\n"
     ]
    },
    {
     "data": {
      "application/vnd.jupyter.widget-view+json": {
       "model_id": "bb5f0463ea684ff8890450ba03b6e269",
       "version_major": 2,
       "version_minor": 0
      },
      "text/plain": [
       "HBox(children=(FloatProgress(value=0.0, max=3125.0), HTML(value='')))"
      ]
     },
     "metadata": {},
     "output_type": "display_data"
    },
    {
     "name": "stdout",
     "output_type": "stream",
     "text": [
      "\n",
      "epoch: 54 -----train loss : 0.0466 ,train acc:  0.9848,  valid loss : 0.489 ,vaild acc:  0.8885\n"
     ]
    },
    {
     "data": {
      "application/vnd.jupyter.widget-view+json": {
       "model_id": "5aaac16d792e4868aa80f859dd5d30ef",
       "version_major": 2,
       "version_minor": 0
      },
      "text/plain": [
       "HBox(children=(FloatProgress(value=0.0, max=3125.0), HTML(value='')))"
      ]
     },
     "metadata": {},
     "output_type": "display_data"
    },
    {
     "name": "stdout",
     "output_type": "stream",
     "text": [
      "\n",
      "epoch: 55 -----train loss : 0.0465 ,train acc:  0.9835,  valid loss : 0.4956 ,vaild acc:  0.8895\n"
     ]
    },
    {
     "data": {
      "application/vnd.jupyter.widget-view+json": {
       "model_id": "958d9f20451e4cdc8fe299e3d689a725",
       "version_major": 2,
       "version_minor": 0
      },
      "text/plain": [
       "HBox(children=(FloatProgress(value=0.0, max=3125.0), HTML(value='')))"
      ]
     },
     "metadata": {},
     "output_type": "display_data"
    },
    {
     "name": "stdout",
     "output_type": "stream",
     "text": [
      "\n",
      "epoch: 56 -----train loss : 0.0436 ,train acc:  0.9844,  valid loss : 0.4986 ,vaild acc:  0.8886\n"
     ]
    },
    {
     "data": {
      "application/vnd.jupyter.widget-view+json": {
       "model_id": "56721ba20e954cf289b26c221581cb7c",
       "version_major": 2,
       "version_minor": 0
      },
      "text/plain": [
       "HBox(children=(FloatProgress(value=0.0, max=3125.0), HTML(value='')))"
      ]
     },
     "metadata": {},
     "output_type": "display_data"
    },
    {
     "name": "stdout",
     "output_type": "stream",
     "text": [
      "\n",
      "epoch: 57 -----train loss : 0.0424 ,train acc:  0.9859,  valid loss : 0.5018 ,vaild acc:  0.8888\n"
     ]
    },
    {
     "data": {
      "application/vnd.jupyter.widget-view+json": {
       "model_id": "78f6309baa45404da90fde9d462a7bab",
       "version_major": 2,
       "version_minor": 0
      },
      "text/plain": [
       "HBox(children=(FloatProgress(value=0.0, max=3125.0), HTML(value='')))"
      ]
     },
     "metadata": {},
     "output_type": "display_data"
    },
    {
     "name": "stdout",
     "output_type": "stream",
     "text": [
      "\n",
      "epoch: 58 -----train loss : 0.0434 ,train acc:  0.9849,  valid loss : 0.5114 ,vaild acc:  0.8888\n"
     ]
    },
    {
     "data": {
      "application/vnd.jupyter.widget-view+json": {
       "model_id": "d43d8951928b4dd89416e02ceb8938d1",
       "version_major": 2,
       "version_minor": 0
      },
      "text/plain": [
       "HBox(children=(FloatProgress(value=0.0, max=3125.0), HTML(value='')))"
      ]
     },
     "metadata": {},
     "output_type": "display_data"
    },
    {
     "name": "stdout",
     "output_type": "stream",
     "text": [
      "\n",
      "epoch: 59 -----train loss : 0.0408 ,train acc:  0.9853,  valid loss : 0.5073 ,vaild acc:  0.8886\n"
     ]
    },
    {
     "data": {
      "application/vnd.jupyter.widget-view+json": {
       "model_id": "e76c005fa7e7433c910f7ca20b915abb",
       "version_major": 2,
       "version_minor": 0
      },
      "text/plain": [
       "HBox(children=(FloatProgress(value=0.0, max=3125.0), HTML(value='')))"
      ]
     },
     "metadata": {},
     "output_type": "display_data"
    },
    {
     "name": "stdout",
     "output_type": "stream",
     "text": [
      "\n",
      "epoch: 60 -----train loss : 0.0369 ,train acc:  0.9872,  valid loss : 0.5035 ,vaild acc:  0.8904\n"
     ]
    },
    {
     "data": {
      "application/vnd.jupyter.widget-view+json": {
       "model_id": "357bba12550e4d7ca1354a63bfe5949a",
       "version_major": 2,
       "version_minor": 0
      },
      "text/plain": [
       "HBox(children=(FloatProgress(value=0.0, max=3125.0), HTML(value='')))"
      ]
     },
     "metadata": {},
     "output_type": "display_data"
    },
    {
     "name": "stdout",
     "output_type": "stream",
     "text": [
      "\n",
      "epoch: 61 -----train loss : 0.0347 ,train acc:  0.9886,  valid loss : 0.5081 ,vaild acc:  0.8904\n"
     ]
    },
    {
     "data": {
      "application/vnd.jupyter.widget-view+json": {
       "model_id": "947d23cb7b164dce87c7bc106bbb4ddd",
       "version_major": 2,
       "version_minor": 0
      },
      "text/plain": [
       "HBox(children=(FloatProgress(value=0.0, max=3125.0), HTML(value='')))"
      ]
     },
     "metadata": {},
     "output_type": "display_data"
    },
    {
     "name": "stdout",
     "output_type": "stream",
     "text": [
      "\n",
      "epoch: 62 -----train loss : 0.0345 ,train acc:  0.988,  valid loss : 0.5212 ,vaild acc:  0.8888\n",
      "-------------------------------\n",
      "Training Results at best validation loss\n",
      "train loss : 0.0509 ,train acc:  0.982,  valid loss : 0.4737 ,vaild acc:  0.8915\n"
     ]
    }
   ],
   "source": [
    "Train = training_model(X_train,Y_train, X_train_eval, Y_train_eval, X_test,Y_test, batch_size=16)\n",
    "acc_history_LR, [best_train_losses,best_valid_losses] = Train.train(decay_patience=3)"
   ]
  },
  {
   "cell_type": "code",
   "execution_count": 9,
   "metadata": {},
   "outputs": [
    {
     "data": {
      "text/plain": [
       "(0.75, 1.0)"
      ]
     },
     "execution_count": 9,
     "metadata": {},
     "output_type": "execute_result"
    },
    {
     "data": {
      "image/png": "[encoded data removed]",
      "text/plain": [
       "<Figure size 432x288 with 1 Axes>"
      ]
     },
     "metadata": {
      "needs_background": "light"
     },
     "output_type": "display_data"
    }
   ],
   "source": [
    "plt.plot(acc_history_LR)\n",
    "plt.xlabel(\"epochs\")\n",
    "plt.ylabel(\"accuracy\")\n",
    "plt.ylim((0.75,1.0))"
   ]
  },
  {
   "cell_type": "code",
   "execution_count": 10,
   "metadata": {},
   "outputs": [],
   "source": [
    "class training_model():\n",
    "    def __init__(self,X_train,Y_train, X_train_eval, Y_train_eval, X_test,Y_test, batch_size=16):\n",
    "\n",
    "        self.model = tf.keras.applications.VGG16(input_shape=(32,32,3),weights=None,classes=class_num) \n",
    "        self.model.compile(loss='categorical_crossentropy',\n",
    "              optimizer='adam',\n",
    "              metrics=['accuracy'])\n",
    "        self.model.summary()\n",
    "        #self.model_vals = self.model.trainable_variables\n",
    "        self.batch_size = batch_size\n",
    "        self.create_dataset(X_train,Y_train, X_train_eval, Y_train_eval, X_test,Y_test)\n",
    "\n",
    "\n",
    "    def create_dataset(self, X_train,Y_train, X_train_eval, Y_train_eval, X_test,Y_test):\n",
    "        # create train dataset \n",
    "        input_ds = tf.data.Dataset.from_tensor_slices(X_train)\n",
    "        input_ds = input_ds.map(flip_image,num_parallel_calls=tf.data.experimental.AUTOTUNE).map(image_shift,num_parallel_calls=tf.data.experimental.AUTOTUNE)\n",
    "        target_ds = tf.data.Dataset.from_tensor_slices(Y_train)\n",
    "        self.train_ds = tf.data.Dataset.zip((input_ds, target_ds)).batch(self.batch_size).repeat()\n",
    "        self.train_iter = iter(self.train_ds)\n",
    "        self.train_batch_num = int(np.ceil(X_train.shape[0]/self.batch_size))\n",
    "\n",
    "        # crate train dataset for eval\n",
    "        input_ds = tf.data.Dataset.from_tensor_slices(X_train_eval)\n",
    "        target_ds = tf.data.Dataset.from_tensor_slices(Y_train_eval)\n",
    "        self.train_e_ds = tf.data.Dataset.zip((input_ds, target_ds)).batch(self.batch_size).repeat()\n",
    "        self.train_e_batch_num = int(np.ceil(X_train_eval.shape[0]/self.batch_size))\n",
    "\n",
    "        # create test\n",
    "        input_ds = tf.data.Dataset.from_tensor_slices(X_test)\n",
    "        target_ds = tf.data.Dataset.from_tensor_slices(Y_test)\n",
    "        self.test_ds = tf.data.Dataset.zip((input_ds, target_ds)).batch(self.batch_size).repeat()    \n",
    "        self.test_batch_num =  int(np.ceil(X_test.shape[0]/self.batch_size))\n",
    "    \n",
    "    \n",
    "    def create_train_step(self,lr):\n",
    "        self.optimizer =  tf.keras.optimizers.SGD(lr)\n",
    "        self.model_vals = self.model.trainable_variables\n",
    "        self.train_iter = iter(self.train_ds.unbatch().batch(self.batch_size))\n",
    "        \n",
    "        @tf.function\n",
    "        def train_step(b_input, b_target):\n",
    "            with tf.GradientTape() as tape:\n",
    "                preds= self.model(b_input)\n",
    "                loss = categorical_crossentropy(b_target,preds)\n",
    "            grads = tape.gradient(loss, self.model_vals)\n",
    "            self.optimizer.apply_gradients(zip(grads, self.model_vals))\n",
    "        return train_step\n",
    "        \n",
    "        \n",
    "    def minibatch_training(self):\n",
    "            b_input, b_target = next(self.train_iter)\n",
    "            self.train_step(b_input,b_target)\n",
    "            \n",
    "                \n",
    "                \n",
    "    def train(self,\n",
    "                    epochs=200, \n",
    "                    max_patience=10, \n",
    "                    decay_patience = 6, # lr decayをかけるときのpatience\n",
    "                    num_decay = 3, \n",
    "                    decay_ratio = 4, \n",
    "                    default_lr = 0.001, # default Learning rate\n",
    "                    ):\n",
    "        \n",
    "        acc_history = [] # valid loss history\n",
    "        patience=0 # early stop patience\n",
    "        if num_decay>0:\n",
    "            _max_patience = decay_patience\n",
    "        else:\n",
    "            _max_patience = max_patience\n",
    "        \n",
    "        #First Evaluation\n",
    "        print(\"First_evaluation\")\n",
    "        [train_loss, train_acc] = self.model.evaluate(self.train_e_ds,steps=self.train_e_batch_num, verbose=1)\n",
    "        [valid_loss, valid_acc] = self.model.evaluate(self.test_ds,steps=self.test_batch_num, verbose=1)\n",
    "        best_train_losses = [train_loss, train_acc]\n",
    "        best_valid_losses = [valid_loss, valid_acc]\n",
    "        acc_history.append(valid_acc)\n",
    "        max_acc = valid_acc\n",
    "        print(\"epoch:\",0,\"-----\",end=\"\")\n",
    "        print(\"train loss :\",round(train_loss, 4), \",train acc: \",round(train_acc, 4),end=\"\")\n",
    "        print(\",  valid loss :\",round(valid_loss, 4), \",vaild acc: \",round(valid_acc, 4))\n",
    "        print(\"batch num \",self.train_batch_num)\n",
    "        # start training\n",
    "        lr = default_lr\n",
    "        self.train_step = self.create_train_step(lr)\n",
    "        for epoch in range(epochs):\n",
    "           \n",
    "            for batch in tqdm(range(self.train_batch_num)):\n",
    "                self.minibatch_training() # minibatch training\n",
    "                \n",
    "            # evaluation at epoch end\n",
    "            [train_loss, train_acc]  = self.model.evaluate(self.train_e_ds,steps=self.train_e_batch_num, verbose=0)\n",
    "            [valid_loss, valid_acc] = self.model.evaluate(self.test_ds,steps=self.test_batch_num, verbose=0)\n",
    "            acc_history.append(valid_acc)\n",
    "            print(\"epoch:\",epoch+1,\"-----\",end=\"\")\n",
    "            print(\"train loss :\",round(train_loss, 4), \",train acc: \",round(train_acc, 4),end=\"\")\n",
    "            print(\",  valid loss :\",round(valid_loss, 4), \",vaild acc: \",round(valid_acc, 4),end=\"\")\n",
    "            \n",
    "            if max_acc < valid_acc:\n",
    "                self.model.save(os.path.join(\"./model.h5\", ))\n",
    "                best_train_losses = [train_loss, train_acc]\n",
    "                best_valid_losses = [valid_loss, valid_acc]\n",
    "                max_acc = valid_acc\n",
    "                patience=0\n",
    "                print(\"     accuracy improved!\")\n",
    "            else:\n",
    "                patience+=1\n",
    "                print(\"\")\n",
    "                \n",
    "            # early stopping\n",
    "            if patience>_max_patience:\n",
    "                num_decay -= 1\n",
    "                if num_decay<=0:\n",
    "                    break\n",
    "                else:\n",
    "                    #del self.train_step\n",
    "                    self.model = tf.keras.models.load_model(\"./model.h5\")\n",
    "\n",
    "                    print(\"--------------------------------------\")\n",
    "                    print (\"Batch size increasing : \",self.batch_size,\"->\",end=\"\")\n",
    "                    self.batch_size = self.batch_size*decay_ratio\n",
    "                    print(self.batch_size)\n",
    "                    print(\"--------------------------------------\")\n",
    "                    self.train_step = self.create_train_step(lr)\n",
    "                    \n",
    "                    patience=0\n",
    "                    if num_decay==1:\n",
    "                        _max_patience=max_patience\n",
    "                \n",
    "        print(\"-------------------------------\")\n",
    "        print(\"Training Results at best validation loss\")\n",
    "        print(\"train loss :\",round(best_train_losses[0], 4), \",train acc: \",round(best_train_losses[1], 4),end=\"\")\n",
    "        print(\",  valid loss :\",round(best_valid_losses[0], 4), \",vaild acc: \",round(best_valid_losses[1], 4))\n",
    "        \n",
    "        return acc_history, [best_train_losses,best_valid_losses]"
   ]
  },
  {
   "cell_type": "code",
   "execution_count": 11,
   "metadata": {
    "scrolled": true
   },
   "outputs": [
    {
     "name": "stdout",
     "output_type": "stream",
     "text": [
      "Model: \"vgg16\"\n",
      "_________________________________________________________________\n",
      "Layer (type)                 Output Shape              Param #   \n",
      "=================================================================\n",
      "input_2 (InputLayer)         [(None, 32, 32, 3)]       0         \n",
      "_________________________________________________________________\n",
      "block1_conv1 (Conv2D)        (None, 32, 32, 64)        1792      \n",
      "_________________________________________________________________\n",
      "block1_conv2 (Conv2D)        (None, 32, 32, 64)        36928     \n",
      "_________________________________________________________________\n",
      "block1_pool (MaxPooling2D)   (None, 16, 16, 64)        0         \n",
      "_________________________________________________________________\n",
      "block2_conv1 (Conv2D)        (None, 16, 16, 128)       73856     \n",
      "_________________________________________________________________\n",
      "block2_conv2 (Conv2D)        (None, 16, 16, 128)       147584    \n",
      "_________________________________________________________________\n",
      "block2_pool (MaxPooling2D)   (None, 8, 8, 128)         0         \n",
      "_________________________________________________________________\n",
      "block3_conv1 (Conv2D)        (None, 8, 8, 256)         295168    \n",
      "_________________________________________________________________\n",
      "block3_conv2 (Conv2D)        (None, 8, 8, 256)         590080    \n",
      "_________________________________________________________________\n",
      "block3_conv3 (Conv2D)        (None, 8, 8, 256)         590080    \n",
      "_________________________________________________________________\n",
      "block3_pool (MaxPooling2D)   (None, 4, 4, 256)         0         \n",
      "_________________________________________________________________\n",
      "block4_conv1 (Conv2D)        (None, 4, 4, 512)         1180160   \n",
      "_________________________________________________________________\n",
      "block4_conv2 (Conv2D)        (None, 4, 4, 512)         2359808   \n",
      "_________________________________________________________________\n",
      "block4_conv3 (Conv2D)        (None, 4, 4, 512)         2359808   \n",
      "_________________________________________________________________\n",
      "block4_pool (MaxPooling2D)   (None, 2, 2, 512)         0         \n",
      "_________________________________________________________________\n",
      "block5_conv1 (Conv2D)        (None, 2, 2, 512)         2359808   \n",
      "_________________________________________________________________\n",
      "block5_conv2 (Conv2D)        (None, 2, 2, 512)         2359808   \n",
      "_________________________________________________________________\n",
      "block5_conv3 (Conv2D)        (None, 2, 2, 512)         2359808   \n",
      "_________________________________________________________________\n",
      "block5_pool (MaxPooling2D)   (None, 1, 1, 512)         0         \n",
      "_________________________________________________________________\n",
      "flatten (Flatten)            (None, 512)               0         \n",
      "_________________________________________________________________\n",
      "fc1 (Dense)                  (None, 4096)              2101248   \n",
      "_________________________________________________________________\n",
      "fc2 (Dense)                  (None, 4096)              16781312  \n",
      "_________________________________________________________________\n",
      "predictions (Dense)          (None, 10)                40970     \n",
      "=================================================================\n",
      "Total params: 33,638,218\n",
      "Trainable params: 33,638,218\n",
      "Non-trainable params: 0\n",
      "_________________________________________________________________\n",
      "First_evaluation\n",
      "625/625 [==============================] - 4s 6ms/step - loss: 2.3026 - accuracy: 0.1105\n",
      "625/625 [==============================] - 4s 7ms/step - loss: 2.3026 - accuracy: 0.1139\n",
      "epoch: 0 -----train loss : 2.3026 ,train acc:  0.1105,  valid loss : 2.3026 ,vaild acc:  0.1139\n",
      "batch num  3125\n"
     ]
    },
    {
     "name": "stderr",
     "output_type": "stream",
     "text": [
      "/usr/local/lib/python3.6/dist-packages/ipykernel_launcher.py:90: TqdmDeprecationWarning: This function will be removed in tqdm==5.0.0\n",
      "Please use `tqdm.notebook.tqdm` instead of `tqdm.tqdm_notebook`\n"
     ]
    },
    {
     "data": {
      "application/vnd.jupyter.widget-view+json": {
       "model_id": "aa0d62c4510641729a330fe2c3bece63",
       "version_major": 2,
       "version_minor": 0
      },
      "text/plain": [
       "HBox(children=(FloatProgress(value=0.0, max=3125.0), HTML(value='')))"
      ]
     },
     "metadata": {},
     "output_type": "display_data"
    },
    {
     "name": "stdout",
     "output_type": "stream",
     "text": [
      "\n",
      "epoch: 1 -----train loss : 2.0775 ,train acc:  0.1959,  valid loss : 2.0804 ,vaild acc:  0.1969     accuracy improved!\n"
     ]
    },
    {
     "data": {
      "application/vnd.jupyter.widget-view+json": {
       "model_id": "6af7f1803d7f414491378b817f7b4d73",
       "version_major": 2,
       "version_minor": 0
      },
      "text/plain": [
       "HBox(children=(FloatProgress(value=0.0, max=3125.0), HTML(value='')))"
      ]
     },
     "metadata": {},
     "output_type": "display_data"
    },
    {
     "name": "stdout",
     "output_type": "stream",
     "text": [
      "\n",
      "epoch: 2 -----train loss : 1.8771 ,train acc:  0.2602,  valid loss : 1.8706 ,vaild acc:  0.2597     accuracy improved!\n"
     ]
    },
    {
     "data": {
      "application/vnd.jupyter.widget-view+json": {
       "model_id": "b5e9f8a9760c4d4dbc9fa0f82fdaf5d8",
       "version_major": 2,
       "version_minor": 0
      },
      "text/plain": [
       "HBox(children=(FloatProgress(value=0.0, max=3125.0), HTML(value='')))"
      ]
     },
     "metadata": {},
     "output_type": "display_data"
    },
    {
     "name": "stdout",
     "output_type": "stream",
     "text": [
      "\n",
      "epoch: 3 -----train loss : 1.6808 ,train acc:  0.354,  valid loss : 1.6744 ,vaild acc:  0.355     accuracy improved!\n"
     ]
    },
    {
     "data": {
      "application/vnd.jupyter.widget-view+json": {
       "model_id": "5e9974567dbe43549f4088f877876a2b",
       "version_major": 2,
       "version_minor": 0
      },
      "text/plain": [
       "HBox(children=(FloatProgress(value=0.0, max=3125.0), HTML(value='')))"
      ]
     },
     "metadata": {},
     "output_type": "display_data"
    },
    {
     "name": "stdout",
     "output_type": "stream",
     "text": [
      "\n",
      "epoch: 4 -----train loss : 1.3833 ,train acc:  0.4772,  valid loss : 1.3923 ,vaild acc:  0.4731     accuracy improved!\n"
     ]
    },
    {
     "data": {
      "application/vnd.jupyter.widget-view+json": {
       "model_id": "0ff777db85384b1280c434ccc11d3862",
       "version_major": 2,
       "version_minor": 0
      },
      "text/plain": [
       "HBox(children=(FloatProgress(value=0.0, max=3125.0), HTML(value='')))"
      ]
     },
     "metadata": {},
     "output_type": "display_data"
    },
    {
     "name": "stdout",
     "output_type": "stream",
     "text": [
      "\n",
      "epoch: 5 -----train loss : 1.224 ,train acc:  0.5434,  valid loss : 1.2511 ,vaild acc:  0.5339     accuracy improved!\n"
     ]
    },
    {
     "data": {
      "application/vnd.jupyter.widget-view+json": {
       "model_id": "a6c16f88ab8e4e69bac8c805e7f7146b",
       "version_major": 2,
       "version_minor": 0
      },
      "text/plain": [
       "HBox(children=(FloatProgress(value=0.0, max=3125.0), HTML(value='')))"
      ]
     },
     "metadata": {},
     "output_type": "display_data"
    },
    {
     "name": "stdout",
     "output_type": "stream",
     "text": [
      "\n",
      "epoch: 6 -----train loss : 1.0523 ,train acc:  0.6188,  valid loss : 1.0711 ,vaild acc:  0.6122     accuracy improved!\n"
     ]
    },
    {
     "data": {
      "application/vnd.jupyter.widget-view+json": {
       "model_id": "54f6cd63d8524e41a10e739a6197f414",
       "version_major": 2,
       "version_minor": 0
      },
      "text/plain": [
       "HBox(children=(FloatProgress(value=0.0, max=3125.0), HTML(value='')))"
      ]
     },
     "metadata": {},
     "output_type": "display_data"
    },
    {
     "name": "stdout",
     "output_type": "stream",
     "text": [
      "\n",
      "epoch: 7 -----train loss : 0.9594 ,train acc:  0.6566,  valid loss : 0.9877 ,vaild acc:  0.6472     accuracy improved!\n"
     ]
    },
    {
     "data": {
      "application/vnd.jupyter.widget-view+json": {
       "model_id": "3f92392b4d97443ea936b7a0b76d6d4f",
       "version_major": 2,
       "version_minor": 0
      },
      "text/plain": [
       "HBox(children=(FloatProgress(value=0.0, max=3125.0), HTML(value='')))"
      ]
     },
     "metadata": {},
     "output_type": "display_data"
    },
    {
     "name": "stdout",
     "output_type": "stream",
     "text": [
      "\n",
      "epoch: 8 -----train loss : 0.8665 ,train acc:  0.6876,  valid loss : 0.9026 ,vaild acc:  0.6806     accuracy improved!\n"
     ]
    },
    {
     "data": {
      "application/vnd.jupyter.widget-view+json": {
       "model_id": "327026ebad53425d93ed972b784ded26",
       "version_major": 2,
       "version_minor": 0
      },
      "text/plain": [
       "HBox(children=(FloatProgress(value=0.0, max=3125.0), HTML(value='')))"
      ]
     },
     "metadata": {},
     "output_type": "display_data"
    },
    {
     "name": "stdout",
     "output_type": "stream",
     "text": [
      "\n",
      "epoch: 9 -----train loss : 0.724 ,train acc:  0.7478,  valid loss : 0.7748 ,vaild acc:  0.7317     accuracy improved!\n"
     ]
    },
    {
     "data": {
      "application/vnd.jupyter.widget-view+json": {
       "model_id": "58ecaeaf63c841d683e7df02003e5bce",
       "version_major": 2,
       "version_minor": 0
      },
      "text/plain": [
       "HBox(children=(FloatProgress(value=0.0, max=3125.0), HTML(value='')))"
      ]
     },
     "metadata": {},
     "output_type": "display_data"
    },
    {
     "name": "stdout",
     "output_type": "stream",
     "text": [
      "\n",
      "epoch: 10 -----train loss : 0.6486 ,train acc:  0.7789,  valid loss : 0.7116 ,vaild acc:  0.7576     accuracy improved!\n"
     ]
    },
    {
     "data": {
      "application/vnd.jupyter.widget-view+json": {
       "model_id": "0298bfd311964de28a4f9f8667b9a233",
       "version_major": 2,
       "version_minor": 0
      },
      "text/plain": [
       "HBox(children=(FloatProgress(value=0.0, max=3125.0), HTML(value='')))"
      ]
     },
     "metadata": {},
     "output_type": "display_data"
    },
    {
     "name": "stdout",
     "output_type": "stream",
     "text": [
      "\n",
      "epoch: 11 -----train loss : 0.5942 ,train acc:  0.7984,  valid loss : 0.6689 ,vaild acc:  0.7727     accuracy improved!\n"
     ]
    },
    {
     "data": {
      "application/vnd.jupyter.widget-view+json": {
       "model_id": "ed714364f1414f4f96f3a166d24b84a2",
       "version_major": 2,
       "version_minor": 0
      },
      "text/plain": [
       "HBox(children=(FloatProgress(value=0.0, max=3125.0), HTML(value='')))"
      ]
     },
     "metadata": {},
     "output_type": "display_data"
    },
    {
     "name": "stdout",
     "output_type": "stream",
     "text": [
      "\n",
      "epoch: 12 -----train loss : 0.5424 ,train acc:  0.8175,  valid loss : 0.6283 ,vaild acc:  0.7906     accuracy improved!\n"
     ]
    },
    {
     "data": {
      "application/vnd.jupyter.widget-view+json": {
       "model_id": "f2fb27dfaca74066858eb5e4d1f4b368",
       "version_major": 2,
       "version_minor": 0
      },
      "text/plain": [
       "HBox(children=(FloatProgress(value=0.0, max=3125.0), HTML(value='')))"
      ]
     },
     "metadata": {},
     "output_type": "display_data"
    },
    {
     "name": "stdout",
     "output_type": "stream",
     "text": [
      "\n",
      "epoch: 13 -----train loss : 0.4825 ,train acc:  0.8349,  valid loss : 0.5761 ,vaild acc:  0.8082     accuracy improved!\n"
     ]
    },
    {
     "data": {
      "application/vnd.jupyter.widget-view+json": {
       "model_id": "0d8af13c27c14e54a104b2f07c44983f",
       "version_major": 2,
       "version_minor": 0
      },
      "text/plain": [
       "HBox(children=(FloatProgress(value=0.0, max=3125.0), HTML(value='')))"
      ]
     },
     "metadata": {},
     "output_type": "display_data"
    },
    {
     "name": "stdout",
     "output_type": "stream",
     "text": [
      "\n",
      "epoch: 14 -----train loss : 0.4398 ,train acc:  0.8487,  valid loss : 0.5533 ,vaild acc:  0.8156     accuracy improved!\n"
     ]
    },
    {
     "data": {
      "application/vnd.jupyter.widget-view+json": {
       "model_id": "1407ac787dd4424699c28685c0746166",
       "version_major": 2,
       "version_minor": 0
      },
      "text/plain": [
       "HBox(children=(FloatProgress(value=0.0, max=3125.0), HTML(value='')))"
      ]
     },
     "metadata": {},
     "output_type": "display_data"
    },
    {
     "name": "stdout",
     "output_type": "stream",
     "text": [
      "\n",
      "epoch: 15 -----train loss : 0.4196 ,train acc:  0.8606,  valid loss : 0.5438 ,vaild acc:  0.8212     accuracy improved!\n"
     ]
    },
    {
     "data": {
      "application/vnd.jupyter.widget-view+json": {
       "model_id": "bc5481d58ccc4a4183e011185ab6a9d6",
       "version_major": 2,
       "version_minor": 0
      },
      "text/plain": [
       "HBox(children=(FloatProgress(value=0.0, max=3125.0), HTML(value='')))"
      ]
     },
     "metadata": {},
     "output_type": "display_data"
    },
    {
     "name": "stdout",
     "output_type": "stream",
     "text": [
      "\n",
      "epoch: 16 -----train loss : 0.3838 ,train acc:  0.8708,  valid loss : 0.5197 ,vaild acc:  0.8281     accuracy improved!\n"
     ]
    },
    {
     "data": {
      "application/vnd.jupyter.widget-view+json": {
       "model_id": "2ae793f181894b738796b5d782d528e4",
       "version_major": 2,
       "version_minor": 0
      },
      "text/plain": [
       "HBox(children=(FloatProgress(value=0.0, max=3125.0), HTML(value='')))"
      ]
     },
     "metadata": {},
     "output_type": "display_data"
    },
    {
     "name": "stdout",
     "output_type": "stream",
     "text": [
      "\n",
      "epoch: 17 -----train loss : 0.3862 ,train acc:  0.8675,  valid loss : 0.5359 ,vaild acc:  0.8252\n"
     ]
    },
    {
     "data": {
      "application/vnd.jupyter.widget-view+json": {
       "model_id": "6dc024028d304593b382f96ad4d7ab7d",
       "version_major": 2,
       "version_minor": 0
      },
      "text/plain": [
       "HBox(children=(FloatProgress(value=0.0, max=3125.0), HTML(value='')))"
      ]
     },
     "metadata": {},
     "output_type": "display_data"
    },
    {
     "name": "stdout",
     "output_type": "stream",
     "text": [
      "\n",
      "epoch: 18 -----train loss : 0.3276 ,train acc:  0.8908,  valid loss : 0.4793 ,vaild acc:  0.8456     accuracy improved!\n"
     ]
    },
    {
     "data": {
      "application/vnd.jupyter.widget-view+json": {
       "model_id": "58f0a0ab31434cb6a6037d3f1802e121",
       "version_major": 2,
       "version_minor": 0
      },
      "text/plain": [
       "HBox(children=(FloatProgress(value=0.0, max=3125.0), HTML(value='')))"
      ]
     },
     "metadata": {},
     "output_type": "display_data"
    },
    {
     "name": "stdout",
     "output_type": "stream",
     "text": [
      "\n",
      "epoch: 19 -----train loss : 0.3165 ,train acc:  0.8943,  valid loss : 0.4872 ,vaild acc:  0.8476     accuracy improved!\n"
     ]
    },
    {
     "data": {
      "application/vnd.jupyter.widget-view+json": {
       "model_id": "416a4e7d86054ca9b2b2617ae0130489",
       "version_major": 2,
       "version_minor": 0
      },
      "text/plain": [
       "HBox(children=(FloatProgress(value=0.0, max=3125.0), HTML(value='')))"
      ]
     },
     "metadata": {},
     "output_type": "display_data"
    },
    {
     "name": "stdout",
     "output_type": "stream",
     "text": [
      "\n",
      "epoch: 20 -----train loss : 0.3019 ,train acc:  0.8958,  valid loss : 0.4717 ,vaild acc:  0.8484     accuracy improved!\n"
     ]
    },
    {
     "data": {
      "application/vnd.jupyter.widget-view+json": {
       "model_id": "e976c8a99df542c8958f26c45cc82b7d",
       "version_major": 2,
       "version_minor": 0
      },
      "text/plain": [
       "HBox(children=(FloatProgress(value=0.0, max=3125.0), HTML(value='')))"
      ]
     },
     "metadata": {},
     "output_type": "display_data"
    },
    {
     "name": "stdout",
     "output_type": "stream",
     "text": [
      "\n",
      "epoch: 21 -----train loss : 0.2806 ,train acc:  0.9049,  valid loss : 0.4782 ,vaild acc:  0.8497     accuracy improved!\n"
     ]
    },
    {
     "data": {
      "application/vnd.jupyter.widget-view+json": {
       "model_id": "6f3ae29138044035a5bb2766e3c5e7c8",
       "version_major": 2,
       "version_minor": 0
      },
      "text/plain": [
       "HBox(children=(FloatProgress(value=0.0, max=3125.0), HTML(value='')))"
      ]
     },
     "metadata": {},
     "output_type": "display_data"
    },
    {
     "name": "stdout",
     "output_type": "stream",
     "text": [
      "\n",
      "epoch: 22 -----train loss : 0.2784 ,train acc:  0.901,  valid loss : 0.4823 ,vaild acc:  0.8488\n"
     ]
    },
    {
     "data": {
      "application/vnd.jupyter.widget-view+json": {
       "model_id": "04a3d65707a04d53a1dcc9e96c200fc0",
       "version_major": 2,
       "version_minor": 0
      },
      "text/plain": [
       "HBox(children=(FloatProgress(value=0.0, max=3125.0), HTML(value='')))"
      ]
     },
     "metadata": {},
     "output_type": "display_data"
    },
    {
     "name": "stdout",
     "output_type": "stream",
     "text": [
      "\n",
      "epoch: 23 -----train loss : 0.2558 ,train acc:  0.9138,  valid loss : 0.4862 ,vaild acc:  0.8467\n"
     ]
    },
    {
     "data": {
      "application/vnd.jupyter.widget-view+json": {
       "model_id": "f589611d6bd54a8b968766acdd3ea8e6",
       "version_major": 2,
       "version_minor": 0
      },
      "text/plain": [
       "HBox(children=(FloatProgress(value=0.0, max=3125.0), HTML(value='')))"
      ]
     },
     "metadata": {},
     "output_type": "display_data"
    },
    {
     "name": "stdout",
     "output_type": "stream",
     "text": [
      "\n",
      "epoch: 24 -----train loss : 0.2393 ,train acc:  0.9188,  valid loss : 0.4687 ,vaild acc:  0.8543     accuracy improved!\n"
     ]
    },
    {
     "data": {
      "application/vnd.jupyter.widget-view+json": {
       "model_id": "f8f49acca8134bafa661bfa0ab615198",
       "version_major": 2,
       "version_minor": 0
      },
      "text/plain": [
       "HBox(children=(FloatProgress(value=0.0, max=3125.0), HTML(value='')))"
      ]
     },
     "metadata": {},
     "output_type": "display_data"
    },
    {
     "name": "stdout",
     "output_type": "stream",
     "text": [
      "\n",
      "epoch: 25 -----train loss : 0.2433 ,train acc:  0.9183,  valid loss : 0.4897 ,vaild acc:  0.8521\n"
     ]
    },
    {
     "data": {
      "application/vnd.jupyter.widget-view+json": {
       "model_id": "5c08361e80df41fc8d99548e5c19bf7e",
       "version_major": 2,
       "version_minor": 0
      },
      "text/plain": [
       "HBox(children=(FloatProgress(value=0.0, max=3125.0), HTML(value='')))"
      ]
     },
     "metadata": {},
     "output_type": "display_data"
    },
    {
     "name": "stdout",
     "output_type": "stream",
     "text": [
      "\n",
      "epoch: 26 -----train loss : 0.2265 ,train acc:  0.9244,  valid loss : 0.4876 ,vaild acc:  0.853\n"
     ]
    },
    {
     "data": {
      "application/vnd.jupyter.widget-view+json": {
       "model_id": "14e560d76c0e42b4bff2b072860dae09",
       "version_major": 2,
       "version_minor": 0
      },
      "text/plain": [
       "HBox(children=(FloatProgress(value=0.0, max=3125.0), HTML(value='')))"
      ]
     },
     "metadata": {},
     "output_type": "display_data"
    },
    {
     "name": "stdout",
     "output_type": "stream",
     "text": [
      "\n",
      "epoch: 27 -----train loss : 0.198 ,train acc:  0.9319,  valid loss : 0.4596 ,vaild acc:  0.8588     accuracy improved!\n"
     ]
    },
    {
     "data": {
      "application/vnd.jupyter.widget-view+json": {
       "model_id": "f5ebb1ca65524f6a899ced30dad1574b",
       "version_major": 2,
       "version_minor": 0
      },
      "text/plain": [
       "HBox(children=(FloatProgress(value=0.0, max=3125.0), HTML(value='')))"
      ]
     },
     "metadata": {},
     "output_type": "display_data"
    },
    {
     "name": "stdout",
     "output_type": "stream",
     "text": [
      "\n",
      "epoch: 28 -----train loss : 0.1851 ,train acc:  0.9369,  valid loss : 0.4569 ,vaild acc:  0.867     accuracy improved!\n"
     ]
    },
    {
     "data": {
      "application/vnd.jupyter.widget-view+json": {
       "model_id": "0fce7fbfb5664a2eb821c24614692040",
       "version_major": 2,
       "version_minor": 0
      },
      "text/plain": [
       "HBox(children=(FloatProgress(value=0.0, max=3125.0), HTML(value='')))"
      ]
     },
     "metadata": {},
     "output_type": "display_data"
    },
    {
     "name": "stdout",
     "output_type": "stream",
     "text": [
      "\n",
      "epoch: 29 -----train loss : 0.1925 ,train acc:  0.9343,  valid loss : 0.4493 ,vaild acc:  0.8589\n"
     ]
    },
    {
     "data": {
      "application/vnd.jupyter.widget-view+json": {
       "model_id": "e2817d6c839e415bba7984df370c3f80",
       "version_major": 2,
       "version_minor": 0
      },
      "text/plain": [
       "HBox(children=(FloatProgress(value=0.0, max=3125.0), HTML(value='')))"
      ]
     },
     "metadata": {},
     "output_type": "display_data"
    },
    {
     "name": "stdout",
     "output_type": "stream",
     "text": [
      "\n",
      "epoch: 30 -----train loss : 0.1829 ,train acc:  0.9374,  valid loss : 0.4629 ,vaild acc:  0.8623\n"
     ]
    },
    {
     "data": {
      "application/vnd.jupyter.widget-view+json": {
       "model_id": "46f386a881ea4a5caa2988fb88eac656",
       "version_major": 2,
       "version_minor": 0
      },
      "text/plain": [
       "HBox(children=(FloatProgress(value=0.0, max=3125.0), HTML(value='')))"
      ]
     },
     "metadata": {},
     "output_type": "display_data"
    },
    {
     "name": "stdout",
     "output_type": "stream",
     "text": [
      "\n",
      "epoch: 31 -----train loss : 0.1761 ,train acc:  0.942,  valid loss : 0.4629 ,vaild acc:  0.8636\n"
     ]
    },
    {
     "data": {
      "application/vnd.jupyter.widget-view+json": {
       "model_id": "94d2b9abeab94bcdb2d1fd7aa902fe72",
       "version_major": 2,
       "version_minor": 0
      },
      "text/plain": [
       "HBox(children=(FloatProgress(value=0.0, max=3125.0), HTML(value='')))"
      ]
     },
     "metadata": {},
     "output_type": "display_data"
    },
    {
     "name": "stdout",
     "output_type": "stream",
     "text": [
      "\n",
      "epoch: 32 -----train loss : 0.1539 ,train acc:  0.949,  valid loss : 0.4544 ,vaild acc:  0.866\n",
      "--------------------------------------\n",
      "Batch size increasing :  16 ->64\n",
      "--------------------------------------\n"
     ]
    },
    {
     "data": {
      "application/vnd.jupyter.widget-view+json": {
       "model_id": "ad167009e3c6489eb7976ef350a3ce9c",
       "version_major": 2,
       "version_minor": 0
      },
      "text/plain": [
       "HBox(children=(FloatProgress(value=0.0, max=3125.0), HTML(value='')))"
      ]
     },
     "metadata": {},
     "output_type": "display_data"
    },
    {
     "name": "stdout",
     "output_type": "stream",
     "text": [
      "\n",
      "epoch: 33 -----train loss : 0.2035 ,train acc:  0.9325,  valid loss : 0.4941 ,vaild acc:  0.8552\n"
     ]
    },
    {
     "data": {
      "application/vnd.jupyter.widget-view+json": {
       "model_id": "129b1e1c47ad4fe688a18eeea4d120c2",
       "version_major": 2,
       "version_minor": 0
      },
      "text/plain": [
       "HBox(children=(FloatProgress(value=0.0, max=3125.0), HTML(value='')))"
      ]
     },
     "metadata": {},
     "output_type": "display_data"
    },
    {
     "name": "stdout",
     "output_type": "stream",
     "text": [
      "\n",
      "epoch: 34 -----train loss : 0.1632 ,train acc:  0.945,  valid loss : 0.4848 ,vaild acc:  0.8626\n"
     ]
    },
    {
     "data": {
      "application/vnd.jupyter.widget-view+json": {
       "model_id": "87175731834940eab6cb9accc426eb20",
       "version_major": 2,
       "version_minor": 0
      },
      "text/plain": [
       "HBox(children=(FloatProgress(value=0.0, max=3125.0), HTML(value='')))"
      ]
     },
     "metadata": {},
     "output_type": "display_data"
    },
    {
     "name": "stdout",
     "output_type": "stream",
     "text": [
      "\n",
      "epoch: 35 -----train loss : 0.1021 ,train acc:  0.968,  valid loss : 0.4481 ,vaild acc:  0.8764     accuracy improved!\n"
     ]
    },
    {
     "data": {
      "application/vnd.jupyter.widget-view+json": {
       "model_id": "2816bb04e4af4bd18118b8bfce3a7eb0",
       "version_major": 2,
       "version_minor": 0
      },
      "text/plain": [
       "HBox(children=(FloatProgress(value=0.0, max=3125.0), HTML(value='')))"
      ]
     },
     "metadata": {},
     "output_type": "display_data"
    },
    {
     "name": "stdout",
     "output_type": "stream",
     "text": [
      "\n",
      "epoch: 36 -----train loss : 0.0903 ,train acc:  0.9702,  valid loss : 0.4538 ,vaild acc:  0.8743\n"
     ]
    },
    {
     "data": {
      "application/vnd.jupyter.widget-view+json": {
       "model_id": "6157176fde704c5187f45d446bdb05eb",
       "version_major": 2,
       "version_minor": 0
      },
      "text/plain": [
       "HBox(children=(FloatProgress(value=0.0, max=3125.0), HTML(value='')))"
      ]
     },
     "metadata": {},
     "output_type": "display_data"
    },
    {
     "name": "stdout",
     "output_type": "stream",
     "text": [
      "\n",
      "epoch: 37 -----train loss : 0.0694 ,train acc:  0.9762,  valid loss : 0.4725 ,vaild acc:  0.8762\n"
     ]
    },
    {
     "data": {
      "application/vnd.jupyter.widget-view+json": {
       "model_id": "c89742c167f346cfbbb57b3d15b6faa3",
       "version_major": 2,
       "version_minor": 0
      },
      "text/plain": [
       "HBox(children=(FloatProgress(value=0.0, max=3125.0), HTML(value='')))"
      ]
     },
     "metadata": {},
     "output_type": "display_data"
    },
    {
     "name": "stdout",
     "output_type": "stream",
     "text": [
      "\n",
      "epoch: 38 -----train loss : 0.0555 ,train acc:  0.9796,  valid loss : 0.4831 ,vaild acc:  0.8821     accuracy improved!\n"
     ]
    },
    {
     "data": {
      "application/vnd.jupyter.widget-view+json": {
       "model_id": "6d795b5d18e24d37a3044065977f06a5",
       "version_major": 2,
       "version_minor": 0
      },
      "text/plain": [
       "HBox(children=(FloatProgress(value=0.0, max=3125.0), HTML(value='')))"
      ]
     },
     "metadata": {},
     "output_type": "display_data"
    },
    {
     "name": "stdout",
     "output_type": "stream",
     "text": [
      "\n",
      "epoch: 39 -----train loss : 0.0498 ,train acc:  0.9826,  valid loss : 0.5072 ,vaild acc:  0.8834     accuracy improved!\n"
     ]
    },
    {
     "data": {
      "application/vnd.jupyter.widget-view+json": {
       "model_id": "94df93685c4b43d287da4257ba2dd2b1",
       "version_major": 2,
       "version_minor": 0
      },
      "text/plain": [
       "HBox(children=(FloatProgress(value=0.0, max=3125.0), HTML(value='')))"
      ]
     },
     "metadata": {},
     "output_type": "display_data"
    },
    {
     "name": "stdout",
     "output_type": "stream",
     "text": [
      "\n",
      "epoch: 40 -----train loss : 0.0478 ,train acc:  0.9841,  valid loss : 0.5081 ,vaild acc:  0.8844     accuracy improved!\n"
     ]
    },
    {
     "data": {
      "application/vnd.jupyter.widget-view+json": {
       "model_id": "8da707bc3c7f41bcaa0e1020f1d51de1",
       "version_major": 2,
       "version_minor": 0
      },
      "text/plain": [
       "HBox(children=(FloatProgress(value=0.0, max=3125.0), HTML(value='')))"
      ]
     },
     "metadata": {},
     "output_type": "display_data"
    },
    {
     "name": "stdout",
     "output_type": "stream",
     "text": [
      "\n",
      "epoch: 41 -----train loss : 0.0319 ,train acc:  0.9887,  valid loss : 0.5291 ,vaild acc:  0.8864     accuracy improved!\n"
     ]
    },
    {
     "data": {
      "application/vnd.jupyter.widget-view+json": {
       "model_id": "c53d1ef9a05247fa9e25ca1da0c2f5f4",
       "version_major": 2,
       "version_minor": 0
      },
      "text/plain": [
       "HBox(children=(FloatProgress(value=0.0, max=3125.0), HTML(value='')))"
      ]
     },
     "metadata": {},
     "output_type": "display_data"
    },
    {
     "name": "stdout",
     "output_type": "stream",
     "text": [
      "\n",
      "epoch: 42 -----train loss : 0.0462 ,train acc:  0.9845,  valid loss : 0.549 ,vaild acc:  0.886\n"
     ]
    },
    {
     "data": {
      "application/vnd.jupyter.widget-view+json": {
       "model_id": "09932181ea9e478480c7ee7f3b791a01",
       "version_major": 2,
       "version_minor": 0
      },
      "text/plain": [
       "HBox(children=(FloatProgress(value=0.0, max=3125.0), HTML(value='')))"
      ]
     },
     "metadata": {},
     "output_type": "display_data"
    },
    {
     "name": "stdout",
     "output_type": "stream",
     "text": [
      "\n",
      "epoch: 43 -----train loss : 0.0377 ,train acc:  0.9868,  valid loss : 0.5458 ,vaild acc:  0.8844\n"
     ]
    },
    {
     "data": {
      "application/vnd.jupyter.widget-view+json": {
       "model_id": "359c5dd1d9234ae994ee4453e1c8ca90",
       "version_major": 2,
       "version_minor": 0
      },
      "text/plain": [
       "HBox(children=(FloatProgress(value=0.0, max=3125.0), HTML(value='')))"
      ]
     },
     "metadata": {},
     "output_type": "display_data"
    },
    {
     "name": "stdout",
     "output_type": "stream",
     "text": [
      "\n",
      "epoch: 44 -----train loss : 0.0229 ,train acc:  0.9919,  valid loss : 0.5081 ,vaild acc:  0.8902     accuracy improved!\n"
     ]
    },
    {
     "data": {
      "application/vnd.jupyter.widget-view+json": {
       "model_id": "10908f2c6e514db3945c3f5b8d29af2a",
       "version_major": 2,
       "version_minor": 0
      },
      "text/plain": [
       "HBox(children=(FloatProgress(value=0.0, max=3125.0), HTML(value='')))"
      ]
     },
     "metadata": {},
     "output_type": "display_data"
    },
    {
     "name": "stdout",
     "output_type": "stream",
     "text": [
      "\n",
      "epoch: 45 -----train loss : 0.0276 ,train acc:  0.9912,  valid loss : 0.5089 ,vaild acc:  0.8912     accuracy improved!\n"
     ]
    },
    {
     "data": {
      "application/vnd.jupyter.widget-view+json": {
       "model_id": "618b11211b414247b9e5e4888488a0b3",
       "version_major": 2,
       "version_minor": 0
      },
      "text/plain": [
       "HBox(children=(FloatProgress(value=0.0, max=3125.0), HTML(value='')))"
      ]
     },
     "metadata": {},
     "output_type": "display_data"
    },
    {
     "name": "stdout",
     "output_type": "stream",
     "text": [
      "\n",
      "epoch: 46 -----train loss : 0.0439 ,train acc:  0.984,  valid loss : 0.5805 ,vaild acc:  0.883\n"
     ]
    },
    {
     "data": {
      "application/vnd.jupyter.widget-view+json": {
       "model_id": "2fa698e8966a4399b12097e5c8618d60",
       "version_major": 2,
       "version_minor": 0
      },
      "text/plain": [
       "HBox(children=(FloatProgress(value=0.0, max=3125.0), HTML(value='')))"
      ]
     },
     "metadata": {},
     "output_type": "display_data"
    },
    {
     "name": "stdout",
     "output_type": "stream",
     "text": [
      "\n",
      "epoch: 47 -----train loss : 0.0264 ,train acc:  0.9908,  valid loss : 0.5844 ,vaild acc:  0.8932     accuracy improved!\n"
     ]
    },
    {
     "data": {
      "application/vnd.jupyter.widget-view+json": {
       "model_id": "732886ed794549839bd6a06a3c400930",
       "version_major": 2,
       "version_minor": 0
      },
      "text/plain": [
       "HBox(children=(FloatProgress(value=0.0, max=3125.0), HTML(value='')))"
      ]
     },
     "metadata": {},
     "output_type": "display_data"
    },
    {
     "name": "stdout",
     "output_type": "stream",
     "text": [
      "\n",
      "epoch: 48 -----train loss : 0.0218 ,train acc:  0.9919,  valid loss : 0.5824 ,vaild acc:  0.8914\n"
     ]
    },
    {
     "data": {
      "application/vnd.jupyter.widget-view+json": {
       "model_id": "58858d1a39a04b0c96cf2882e49a74d1",
       "version_major": 2,
       "version_minor": 0
      },
      "text/plain": [
       "HBox(children=(FloatProgress(value=0.0, max=3125.0), HTML(value='')))"
      ]
     },
     "metadata": {},
     "output_type": "display_data"
    },
    {
     "name": "stdout",
     "output_type": "stream",
     "text": [
      "\n",
      "epoch: 49 -----train loss : 0.016 ,train acc:  0.9943,  valid loss : 0.5545 ,vaild acc:  0.8958     accuracy improved!\n"
     ]
    },
    {
     "data": {
      "application/vnd.jupyter.widget-view+json": {
       "model_id": "8407ed767c914cadbaf4ad0424958750",
       "version_major": 2,
       "version_minor": 0
      },
      "text/plain": [
       "HBox(children=(FloatProgress(value=0.0, max=3125.0), HTML(value='')))"
      ]
     },
     "metadata": {},
     "output_type": "display_data"
    },
    {
     "name": "stdout",
     "output_type": "stream",
     "text": [
      "\n",
      "epoch: 50 -----train loss : 0.0217 ,train acc:  0.9919,  valid loss : 0.6106 ,vaild acc:  0.8928\n"
     ]
    },
    {
     "data": {
      "application/vnd.jupyter.widget-view+json": {
       "model_id": "1a9f1fe7a71147de8ace7f8efcc319f9",
       "version_major": 2,
       "version_minor": 0
      },
      "text/plain": [
       "HBox(children=(FloatProgress(value=0.0, max=3125.0), HTML(value='')))"
      ]
     },
     "metadata": {},
     "output_type": "display_data"
    },
    {
     "name": "stdout",
     "output_type": "stream",
     "text": [
      "\n",
      "epoch: 51 -----train loss : 0.025 ,train acc:  0.9916,  valid loss : 0.6025 ,vaild acc:  0.8874\n"
     ]
    },
    {
     "data": {
      "application/vnd.jupyter.widget-view+json": {
       "model_id": "89ca15e9d1504e4f8f47991e591e7c4e",
       "version_major": 2,
       "version_minor": 0
      },
      "text/plain": [
       "HBox(children=(FloatProgress(value=0.0, max=3125.0), HTML(value='')))"
      ]
     },
     "metadata": {},
     "output_type": "display_data"
    },
    {
     "name": "stdout",
     "output_type": "stream",
     "text": [
      "\n",
      "epoch: 52 -----train loss : 0.0113 ,train acc:  0.9963,  valid loss : 0.5837 ,vaild acc:  0.8939\n"
     ]
    },
    {
     "data": {
      "application/vnd.jupyter.widget-view+json": {
       "model_id": "142950545d6b41789768dae124fc43d9",
       "version_major": 2,
       "version_minor": 0
      },
      "text/plain": [
       "HBox(children=(FloatProgress(value=0.0, max=3125.0), HTML(value='')))"
      ]
     },
     "metadata": {},
     "output_type": "display_data"
    },
    {
     "name": "stdout",
     "output_type": "stream",
     "text": [
      "\n",
      "epoch: 53 -----train loss : 0.0186 ,train acc:  0.9938,  valid loss : 0.6482 ,vaild acc:  0.8914\n",
      "--------------------------------------\n",
      "Batch size increasing :  64 ->256\n",
      "--------------------------------------\n"
     ]
    },
    {
     "data": {
      "application/vnd.jupyter.widget-view+json": {
       "model_id": "89b2729540c247228f606236c85bb09f",
       "version_major": 2,
       "version_minor": 0
      },
      "text/plain": [
       "HBox(children=(FloatProgress(value=0.0, max=3125.0), HTML(value='')))"
      ]
     },
     "metadata": {},
     "output_type": "display_data"
    },
    {
     "name": "stdout",
     "output_type": "stream",
     "text": [
      "\n",
      "epoch: 54 -----train loss : 0.0307 ,train acc:  0.9895,  valid loss : 0.5646 ,vaild acc:  0.8884\n"
     ]
    },
    {
     "data": {
      "application/vnd.jupyter.widget-view+json": {
       "model_id": "5da0dae7ca1f43dc849af991cd469c38",
       "version_major": 2,
       "version_minor": 0
      },
      "text/plain": [
       "HBox(children=(FloatProgress(value=0.0, max=3125.0), HTML(value='')))"
      ]
     },
     "metadata": {},
     "output_type": "display_data"
    },
    {
     "name": "stdout",
     "output_type": "stream",
     "text": [
      "\n",
      "epoch: 55 -----train loss : 0.0099 ,train acc:  0.9967,  valid loss : 0.5587 ,vaild acc:  0.9012     accuracy improved!\n"
     ]
    },
    {
     "data": {
      "application/vnd.jupyter.widget-view+json": {
       "model_id": "deaa2de471eb4a15892044f96bdedc9c",
       "version_major": 2,
       "version_minor": 0
      },
      "text/plain": [
       "HBox(children=(FloatProgress(value=0.0, max=3125.0), HTML(value='')))"
      ]
     },
     "metadata": {},
     "output_type": "display_data"
    },
    {
     "name": "stdout",
     "output_type": "stream",
     "text": [
      "\n",
      "epoch: 56 -----train loss : 0.0074 ,train acc:  0.9978,  valid loss : 0.5636 ,vaild acc:  0.9008\n"
     ]
    },
    {
     "data": {
      "application/vnd.jupyter.widget-view+json": {
       "model_id": "0df0b70e6be6466096aa4d1ac73fa9e5",
       "version_major": 2,
       "version_minor": 0
      },
      "text/plain": [
       "HBox(children=(FloatProgress(value=0.0, max=3125.0), HTML(value='')))"
      ]
     },
     "metadata": {},
     "output_type": "display_data"
    },
    {
     "name": "stdout",
     "output_type": "stream",
     "text": [
      "\n",
      "epoch: 57 -----train loss : 0.0149 ,train acc:  0.9954,  valid loss : 0.6141 ,vaild acc:  0.8954\n"
     ]
    },
    {
     "data": {
      "application/vnd.jupyter.widget-view+json": {
       "model_id": "0efba0737c524fce954f5320959b02bd",
       "version_major": 2,
       "version_minor": 0
      },
      "text/plain": [
       "HBox(children=(FloatProgress(value=0.0, max=3125.0), HTML(value='')))"
      ]
     },
     "metadata": {},
     "output_type": "display_data"
    },
    {
     "name": "stdout",
     "output_type": "stream",
     "text": [
      "\n",
      "epoch: 58 -----train loss : 0.0076 ,train acc:  0.9972,  valid loss : 0.6003 ,vaild acc:  0.9018     accuracy improved!\n"
     ]
    },
    {
     "data": {
      "application/vnd.jupyter.widget-view+json": {
       "model_id": "306e2af9cd514ca8ac8e9ac2e9246cdf",
       "version_major": 2,
       "version_minor": 0
      },
      "text/plain": [
       "HBox(children=(FloatProgress(value=0.0, max=3125.0), HTML(value='')))"
      ]
     },
     "metadata": {},
     "output_type": "display_data"
    },
    {
     "name": "stdout",
     "output_type": "stream",
     "text": [
      "\n",
      "epoch: 59 -----train loss : 0.0179 ,train acc:  0.9942,  valid loss : 0.6477 ,vaild acc:  0.8938\n"
     ]
    },
    {
     "data": {
      "application/vnd.jupyter.widget-view+json": {
       "model_id": "076b023327bf4c77b64d3d2526d961e9",
       "version_major": 2,
       "version_minor": 0
      },
      "text/plain": [
       "HBox(children=(FloatProgress(value=0.0, max=3125.0), HTML(value='')))"
      ]
     },
     "metadata": {},
     "output_type": "display_data"
    },
    {
     "name": "stdout",
     "output_type": "stream",
     "text": [
      "\n",
      "epoch: 60 -----train loss : 0.0095 ,train acc:  0.997,  valid loss : 0.7279 ,vaild acc:  0.8958\n"
     ]
    },
    {
     "data": {
      "application/vnd.jupyter.widget-view+json": {
       "model_id": "78e7fe0f35d94f80b5264578ef45b47e",
       "version_major": 2,
       "version_minor": 0
      },
      "text/plain": [
       "HBox(children=(FloatProgress(value=0.0, max=3125.0), HTML(value='')))"
      ]
     },
     "metadata": {},
     "output_type": "display_data"
    },
    {
     "name": "stdout",
     "output_type": "stream",
     "text": [
      "\n",
      "epoch: 61 -----train loss : 0.014 ,train acc:  0.9945,  valid loss : 0.7393 ,vaild acc:  0.8917\n"
     ]
    },
    {
     "data": {
      "application/vnd.jupyter.widget-view+json": {
       "model_id": "1b08ceb66bfb4fd19719d4b152d10003",
       "version_major": 2,
       "version_minor": 0
      },
      "text/plain": [
       "HBox(children=(FloatProgress(value=0.0, max=3125.0), HTML(value='')))"
      ]
     },
     "metadata": {},
     "output_type": "display_data"
    },
    {
     "name": "stdout",
     "output_type": "stream",
     "text": [
      "\n",
      "epoch: 62 -----train loss : 0.0158 ,train acc:  0.9944,  valid loss : 0.5287 ,vaild acc:  0.8938\n"
     ]
    },
    {
     "data": {
      "application/vnd.jupyter.widget-view+json": {
       "model_id": "c6f4dad045804453bd7d03633d0ef7fd",
       "version_major": 2,
       "version_minor": 0
      },
      "text/plain": [
       "HBox(children=(FloatProgress(value=0.0, max=3125.0), HTML(value='')))"
      ]
     },
     "metadata": {},
     "output_type": "display_data"
    },
    {
     "name": "stdout",
     "output_type": "stream",
     "text": [
      "\n",
      "epoch: 63 -----train loss : 0.003 ,train acc:  0.999,  valid loss : 0.6032 ,vaild acc:  0.9048     accuracy improved!\n"
     ]
    },
    {
     "data": {
      "application/vnd.jupyter.widget-view+json": {
       "model_id": "8ab3cad2fd9140bc988dad8ccec41027",
       "version_major": 2,
       "version_minor": 0
      },
      "text/plain": [
       "HBox(children=(FloatProgress(value=0.0, max=3125.0), HTML(value='')))"
      ]
     },
     "metadata": {},
     "output_type": "display_data"
    },
    {
     "name": "stdout",
     "output_type": "stream",
     "text": [
      "\n",
      "epoch: 64 -----train loss : 0.0079 ,train acc:  0.9978,  valid loss : 0.682 ,vaild acc:  0.9025\n"
     ]
    },
    {
     "data": {
      "application/vnd.jupyter.widget-view+json": {
       "model_id": "2fac7ae1d55142328490acb2b8ba9be5",
       "version_major": 2,
       "version_minor": 0
      },
      "text/plain": [
       "HBox(children=(FloatProgress(value=0.0, max=3125.0), HTML(value='')))"
      ]
     },
     "metadata": {},
     "output_type": "display_data"
    },
    {
     "name": "stdout",
     "output_type": "stream",
     "text": [
      "\n",
      "epoch: 65 -----train loss : 0.0028 ,train acc:  0.9989,  valid loss : 0.6801 ,vaild acc:  0.9007\n"
     ]
    },
    {
     "data": {
      "application/vnd.jupyter.widget-view+json": {
       "model_id": "32b2944289594446a3a96235d7842e3c",
       "version_major": 2,
       "version_minor": 0
      },
      "text/plain": [
       "HBox(children=(FloatProgress(value=0.0, max=3125.0), HTML(value='')))"
      ]
     },
     "metadata": {},
     "output_type": "display_data"
    },
    {
     "name": "stdout",
     "output_type": "stream",
     "text": [
      "\n",
      "epoch: 66 -----train loss : 0.0065 ,train acc:  0.9973,  valid loss : 0.6577 ,vaild acc:  0.8991\n"
     ]
    },
    {
     "data": {
      "application/vnd.jupyter.widget-view+json": {
       "model_id": "6c30f6e3588a4c949891528cc2169b61",
       "version_major": 2,
       "version_minor": 0
      },
      "text/plain": [
       "HBox(children=(FloatProgress(value=0.0, max=3125.0), HTML(value='')))"
      ]
     },
     "metadata": {},
     "output_type": "display_data"
    },
    {
     "name": "stdout",
     "output_type": "stream",
     "text": [
      "\n",
      "epoch: 67 -----train loss : 0.0031 ,train acc:  0.9989,  valid loss : 0.6664 ,vaild acc:  0.9057     accuracy improved!\n"
     ]
    },
    {
     "data": {
      "application/vnd.jupyter.widget-view+json": {
       "model_id": "96ce226dcb3b4733ae1995bedaa8d61f",
       "version_major": 2,
       "version_minor": 0
      },
      "text/plain": [
       "HBox(children=(FloatProgress(value=0.0, max=3125.0), HTML(value='')))"
      ]
     },
     "metadata": {},
     "output_type": "display_data"
    },
    {
     "name": "stdout",
     "output_type": "stream",
     "text": [
      "\n",
      "epoch: 68 -----train loss : 0.0014 ,train acc:  0.9995,  valid loss : 0.6496 ,vaild acc:  0.9074     accuracy improved!\n"
     ]
    },
    {
     "data": {
      "application/vnd.jupyter.widget-view+json": {
       "model_id": "d25a9e7b344f4b89aa60eadf56ce6831",
       "version_major": 2,
       "version_minor": 0
      },
      "text/plain": [
       "HBox(children=(FloatProgress(value=0.0, max=3125.0), HTML(value='')))"
      ]
     },
     "metadata": {},
     "output_type": "display_data"
    },
    {
     "name": "stdout",
     "output_type": "stream",
     "text": [
      "\n",
      "epoch: 69 -----train loss : 0.0039 ,train acc:  0.9988,  valid loss : 0.6959 ,vaild acc:  0.9041\n"
     ]
    },
    {
     "data": {
      "application/vnd.jupyter.widget-view+json": {
       "model_id": "f518b2ba870344d09c7d3208fb17d539",
       "version_major": 2,
       "version_minor": 0
      },
      "text/plain": [
       "HBox(children=(FloatProgress(value=0.0, max=3125.0), HTML(value='')))"
      ]
     },
     "metadata": {},
     "output_type": "display_data"
    },
    {
     "name": "stdout",
     "output_type": "stream",
     "text": [
      "\n",
      "epoch: 70 -----train loss : 0.0014 ,train acc:  0.9995,  valid loss : 0.751 ,vaild acc:  0.9055\n"
     ]
    },
    {
     "data": {
      "application/vnd.jupyter.widget-view+json": {
       "model_id": "35e9a984c3cc443e8f3390508a7661f0",
       "version_major": 2,
       "version_minor": 0
      },
      "text/plain": [
       "HBox(children=(FloatProgress(value=0.0, max=3125.0), HTML(value='')))"
      ]
     },
     "metadata": {},
     "output_type": "display_data"
    },
    {
     "name": "stdout",
     "output_type": "stream",
     "text": [
      "\n",
      "epoch: 71 -----train loss : 0.0026 ,train acc:  0.9989,  valid loss : 0.7268 ,vaild acc:  0.9051\n"
     ]
    },
    {
     "data": {
      "application/vnd.jupyter.widget-view+json": {
       "model_id": "61ae5ade939748588137d9f99b6e498e",
       "version_major": 2,
       "version_minor": 0
      },
      "text/plain": [
       "HBox(children=(FloatProgress(value=0.0, max=3125.0), HTML(value='')))"
      ]
     },
     "metadata": {},
     "output_type": "display_data"
    },
    {
     "name": "stdout",
     "output_type": "stream",
     "text": [
      "\n",
      "epoch: 72 -----train loss : 0.0028 ,train acc:  0.9988,  valid loss : 0.6872 ,vaild acc:  0.9027\n"
     ]
    },
    {
     "data": {
      "application/vnd.jupyter.widget-view+json": {
       "model_id": "fc2032e29f7e43428f1bd4424e492d12",
       "version_major": 2,
       "version_minor": 0
      },
      "text/plain": [
       "HBox(children=(FloatProgress(value=0.0, max=3125.0), HTML(value='')))"
      ]
     },
     "metadata": {},
     "output_type": "display_data"
    },
    {
     "name": "stdout",
     "output_type": "stream",
     "text": [
      "\n",
      "epoch: 73 -----train loss : 0.001 ,train acc:  0.9996,  valid loss : 0.7165 ,vaild acc:  0.9064\n"
     ]
    },
    {
     "data": {
      "application/vnd.jupyter.widget-view+json": {
       "model_id": "8b2fa237fdcd4aec8c5fca13fb53fb46",
       "version_major": 2,
       "version_minor": 0
      },
      "text/plain": [
       "HBox(children=(FloatProgress(value=0.0, max=3125.0), HTML(value='')))"
      ]
     },
     "metadata": {},
     "output_type": "display_data"
    },
    {
     "name": "stdout",
     "output_type": "stream",
     "text": [
      "\n",
      "epoch: 74 -----train loss : 0.0026 ,train acc:  0.9989,  valid loss : 0.7179 ,vaild acc:  0.9052\n"
     ]
    },
    {
     "data": {
      "application/vnd.jupyter.widget-view+json": {
       "model_id": "0fced13fc3b645f782cc7b6df06bff0b",
       "version_major": 2,
       "version_minor": 0
      },
      "text/plain": [
       "HBox(children=(FloatProgress(value=0.0, max=3125.0), HTML(value='')))"
      ]
     },
     "metadata": {},
     "output_type": "display_data"
    },
    {
     "name": "stdout",
     "output_type": "stream",
     "text": [
      "\n",
      "epoch: 75 -----train loss : 0.0006 ,train acc:  0.9998,  valid loss : 0.7402 ,vaild acc:  0.9053\n"
     ]
    },
    {
     "data": {
      "application/vnd.jupyter.widget-view+json": {
       "model_id": "12f30d566f714daca48082d6c3f6a831",
       "version_major": 2,
       "version_minor": 0
      },
      "text/plain": [
       "HBox(children=(FloatProgress(value=0.0, max=3125.0), HTML(value='')))"
      ]
     },
     "metadata": {},
     "output_type": "display_data"
    },
    {
     "name": "stdout",
     "output_type": "stream",
     "text": [
      "\n",
      "epoch: 76 -----train loss : 0.0002 ,train acc:  0.9999,  valid loss : 0.7597 ,vaild acc:  0.9087     accuracy improved!\n"
     ]
    },
    {
     "data": {
      "application/vnd.jupyter.widget-view+json": {
       "model_id": "8057e951051549fda00f87029ada6658",
       "version_major": 2,
       "version_minor": 0
      },
      "text/plain": [
       "HBox(children=(FloatProgress(value=0.0, max=3125.0), HTML(value='')))"
      ]
     },
     "metadata": {},
     "output_type": "display_data"
    },
    {
     "name": "stdout",
     "output_type": "stream",
     "text": [
      "\n",
      "epoch: 77 -----train loss : 0.0014 ,train acc:  0.9996,  valid loss : 0.747 ,vaild acc:  0.9064\n"
     ]
    },
    {
     "data": {
      "application/vnd.jupyter.widget-view+json": {
       "model_id": "d31dc2d46db346a5843e58cb999bb7c2",
       "version_major": 2,
       "version_minor": 0
      },
      "text/plain": [
       "HBox(children=(FloatProgress(value=0.0, max=3125.0), HTML(value='')))"
      ]
     },
     "metadata": {},
     "output_type": "display_data"
    },
    {
     "name": "stdout",
     "output_type": "stream",
     "text": [
      "\n",
      "epoch: 78 -----train loss : 0.0014 ,train acc:  0.9997,  valid loss : 0.8161 ,vaild acc:  0.9043\n"
     ]
    },
    {
     "data": {
      "application/vnd.jupyter.widget-view+json": {
       "model_id": "eeffc6b8166f4405b5ec8d5695536377",
       "version_major": 2,
       "version_minor": 0
      },
      "text/plain": [
       "HBox(children=(FloatProgress(value=0.0, max=3125.0), HTML(value='')))"
      ]
     },
     "metadata": {},
     "output_type": "display_data"
    },
    {
     "name": "stdout",
     "output_type": "stream",
     "text": [
      "\n",
      "epoch: 79 -----train loss : 0.0005 ,train acc:  0.9999,  valid loss : 0.7494 ,vaild acc:  0.9059\n"
     ]
    },
    {
     "data": {
      "application/vnd.jupyter.widget-view+json": {
       "model_id": "c2f6e53e9b4e4d81a92ff69e59bb22d6",
       "version_major": 2,
       "version_minor": 0
      },
      "text/plain": [
       "HBox(children=(FloatProgress(value=0.0, max=3125.0), HTML(value='')))"
      ]
     },
     "metadata": {},
     "output_type": "display_data"
    },
    {
     "name": "stdout",
     "output_type": "stream",
     "text": [
      "\n",
      "epoch: 80 -----train loss : 0.0004 ,train acc:  0.9998,  valid loss : 0.8015 ,vaild acc:  0.9075\n"
     ]
    },
    {
     "data": {
      "application/vnd.jupyter.widget-view+json": {
       "model_id": "479ceb0b5c934bf6addc9137b2e88f18",
       "version_major": 2,
       "version_minor": 0
      },
      "text/plain": [
       "HBox(children=(FloatProgress(value=0.0, max=3125.0), HTML(value='')))"
      ]
     },
     "metadata": {},
     "output_type": "display_data"
    },
    {
     "name": "stdout",
     "output_type": "stream",
     "text": [
      "\n",
      "epoch: 81 -----train loss : 0.0013 ,train acc:  0.9996,  valid loss : 0.78 ,vaild acc:  0.9049\n"
     ]
    },
    {
     "data": {
      "application/vnd.jupyter.widget-view+json": {
       "model_id": "205829adf59242a4b3157d8bb6cb80dd",
       "version_major": 2,
       "version_minor": 0
      },
      "text/plain": [
       "HBox(children=(FloatProgress(value=0.0, max=3125.0), HTML(value='')))"
      ]
     },
     "metadata": {},
     "output_type": "display_data"
    },
    {
     "name": "stdout",
     "output_type": "stream",
     "text": [
      "\n",
      "epoch: 82 -----train loss : 0.0012 ,train acc:  0.9996,  valid loss : 0.8279 ,vaild acc:  0.9068\n"
     ]
    },
    {
     "data": {
      "application/vnd.jupyter.widget-view+json": {
       "model_id": "ec494b5165b34b3e925351cfb70dd6cb",
       "version_major": 2,
       "version_minor": 0
      },
      "text/plain": [
       "HBox(children=(FloatProgress(value=0.0, max=3125.0), HTML(value='')))"
      ]
     },
     "metadata": {},
     "output_type": "display_data"
    },
    {
     "name": "stdout",
     "output_type": "stream",
     "text": [
      "\n",
      "epoch: 83 -----train loss : 0.0004 ,train acc:  0.9999,  valid loss : 0.7724 ,vaild acc:  0.9054\n"
     ]
    },
    {
     "data": {
      "application/vnd.jupyter.widget-view+json": {
       "model_id": "96393cfe7f724911a1fd830b683b4b4f",
       "version_major": 2,
       "version_minor": 0
      },
      "text/plain": [
       "HBox(children=(FloatProgress(value=0.0, max=3125.0), HTML(value='')))"
      ]
     },
     "metadata": {},
     "output_type": "display_data"
    },
    {
     "name": "stdout",
     "output_type": "stream",
     "text": [
      "\n",
      "epoch: 84 -----train loss : 0.0016 ,train acc:  0.9993,  valid loss : 0.7315 ,vaild acc:  0.9047\n"
     ]
    },
    {
     "data": {
      "application/vnd.jupyter.widget-view+json": {
       "model_id": "da8d6fe255be49f997082d4c06c567f7",
       "version_major": 2,
       "version_minor": 0
      },
      "text/plain": [
       "HBox(children=(FloatProgress(value=0.0, max=3125.0), HTML(value='')))"
      ]
     },
     "metadata": {},
     "output_type": "display_data"
    },
    {
     "name": "stdout",
     "output_type": "stream",
     "text": [
      "\n",
      "epoch: 85 -----train loss : 0.0008 ,train acc:  0.9998,  valid loss : 0.7691 ,vaild acc:  0.9042\n"
     ]
    },
    {
     "data": {
      "application/vnd.jupyter.widget-view+json": {
       "model_id": "1fade07d1fcd4e18a13216f7cf612bae",
       "version_major": 2,
       "version_minor": 0
      },
      "text/plain": [
       "HBox(children=(FloatProgress(value=0.0, max=3125.0), HTML(value='')))"
      ]
     },
     "metadata": {},
     "output_type": "display_data"
    },
    {
     "name": "stdout",
     "output_type": "stream",
     "text": [
      "\n",
      "epoch: 86 -----train loss : 0.0002 ,train acc:  0.9999,  valid loss : 0.7829 ,vaild acc:  0.9073\n"
     ]
    },
    {
     "data": {
      "application/vnd.jupyter.widget-view+json": {
       "model_id": "74953b1f64254f09ab6d41a936eb4046",
       "version_major": 2,
       "version_minor": 0
      },
      "text/plain": [
       "HBox(children=(FloatProgress(value=0.0, max=3125.0), HTML(value='')))"
      ]
     },
     "metadata": {},
     "output_type": "display_data"
    },
    {
     "name": "stdout",
     "output_type": "stream",
     "text": [
      "\n",
      "epoch: 87 -----train loss : 0.0007 ,train acc:  0.9997,  valid loss : 0.8133 ,vaild acc:  0.9053\n",
      "-------------------------------\n",
      "Training Results at best validation loss\n",
      "train loss : 0.0002 ,train acc:  0.9999,  valid loss : 0.7597 ,vaild acc:  0.9087\n"
     ]
    }
   ],
   "source": [
    "Train = training_model(X_train,Y_train, X_train_eval, Y_train_eval, X_test,Y_test, batch_size=16)\n",
    "acc_history_BS, [best_train_losses,best_valid_losses] = Train.train(decay_patience=3)"
   ]
  },
  {
   "cell_type": "code",
   "execution_count": 13,
   "metadata": {},
   "outputs": [
    {
     "data": {
      "text/plain": [
       "<matplotlib.legend.Legend at 0x7f9c6cc8bef0>"
      ]
     },
     "execution_count": 13,
     "metadata": {},
     "output_type": "execute_result"
    },
    {
     "data": {
      "image/png": "[encoded data removed]",
      "text/plain": [
       "<Figure size 432x288 with 1 Axes>"
      ]
     },
     "metadata": {
      "needs_background": "light"
     },
     "output_type": "display_data"
    }
   ],
   "source": [
    "plt.plot(acc_history_LR,label=\"Learning Rate Decay\")\n",
    "plt.plot(acc_history_BS,label=\"Batch Size Increase\")\n",
    "plt.ylim((0.74,1.0))\n",
    "plt.xlabel(\"epochs\")\n",
    "plt.ylabel(\"accuracy\")\n",
    "plt.legend()"
   ]
  }
 ],
 "metadata": {
  "kernelspec": {
   "display_name": "Python 3",
   "language": "python",
   "name": "python3"
  },
  "language_info": {
   "codemirror_mode": {
    "name": "ipython",
    "version": 3
   },
   "file_extension": ".py",
   "mimetype": "text/x-python",
   "name": "python",
   "nbconvert_exporter": "python",
   "pygments_lexer": "ipython3",
   "version": "3.6.9"
  }
 },
 "nbformat": 4,
 "nbformat_minor": 2
}
